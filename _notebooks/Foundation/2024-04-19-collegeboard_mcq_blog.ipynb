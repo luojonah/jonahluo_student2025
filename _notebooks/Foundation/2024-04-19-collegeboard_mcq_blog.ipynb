{
 "cells": [
  {
   "cell_type": "raw",
   "id": "21cd8fcf",
   "metadata": {
    "vscode": {
     "languageId": "raw"
    }
   },
   "source": [
    "---\n",
    "layout: post\n",
    "title: 2021 Collegeboard MCQ \n",
    "description: Over!\n",
    "comments: true\n",
    "---"
   ]
  },
  {
   "cell_type": "markdown",
   "id": "5a356536",
   "metadata": {},
   "source": [
    "<img src=\"{{ site.baseurl }}/images/mcq/score.png\">\n",
    "<img src=\"{{ site.baseurl }}/images/mcq/big_idea.png\">\n",
    "<img src=\"{{ site.baseurl }}/images/mcq/topics.png\">"
   ]
  },
  {
   "cell_type": "markdown",
   "id": "d79789eb",
   "metadata": {},
   "source": [
    "After completing the AP Computer Science Principles practice multiple-choice exam, I was able to better understand my current strengths and weaknesses based on the skill-by-skill breakdown. Score: 57/70\n",
    "What I Did Well:\n",
    "I performed strongly on most units that involved understanding and interpreting program functionality. For example, I scored:\n",
    "\t•\t100% on topics like Random Values (3.15), Developing Algorithms (3.9), The Internet (4.1), and Safe Computing (5.6).\n",
    "\t•\tMy score on Iteration (3.8) was also high at 91%, showing that I’m comfortable working with loops and repeating patterns in code.\n",
    "\t•\tI answered all questions correctly on Conditionals (3.6) and Nested Conditionals (3.7), indicating a strong grasp of logical decision-making in Python programs.\n",
    "What I Struggled With:\n",
    "\t•\tI struggled the most with Binary Search (3.11), where I scored 0%, indicating that I may need to revisit how binary search works conceptually and in code.\n",
    "\t•\tBoolean Expressions (3.5) and Data Abstraction (3.2) also showed lower scores at 50% and N/A, respectively.\n",
    "\t•\tSome difficulty came from questions that involved evaluating or comparing algorithms based on efficiency or output, especially in problems with dense visuals or multiple-step logic.\n",
    "\n",
    "Performance by Big Idea:\n",
    "| Big Idea                       | Number of Questions | Average Performance % |\n",
    "| :----------------------------- | :------------------ | :-------------------- |\n",
    "| CRD: Creative Development      | 7                   | 43%                 |\n",
    "| AAP: Algorithms and Programming | 24                  | 79%                 |\n",
    "| DAT: Data                      | 14                  | 86%                 |\n",
    "| CSN: Computing Systems and Networks | 9                   | 89%                 |\n",
    "| IOC: Impact of Computing       | 16                  | 94%                 |\n",
    "\n",
    "How I Plan to Improve:\n",
    "To address these gaps, I plan to:\n",
    "\t•\tPrioritize Creative Development (CRD): Dedicate a significant portion of my study time to the concepts within the Creative Development Big Idea. Focus on understanding the iterative design process, collaboration strategies, ethical considerations, and the responsible use of technology in creative projects. Review examples and practice questions specifically related to CRD.\n",
    "\t•\tTarget Weak Areas within Algorithms and Programming (AAP):\n",
    "\t\t•\t   Binary Search: (As previously detailed)\n",
    "\t\t•\t   Boolean Expressions: (As previously detailed)\n",
    "\t\t•\t    Data Abstraction: (As previously detailed)\n",
    "\t\t•\t   Algorithm Analysis: (As previously detailed)\n",
    "\t•\tMaintain Strengths: Continue to review key concepts in Data (DAT), Computing Systems and Networks (CSN), and Impact of Computing (IOC) through practice questions and concept reviews.\n",
    "\n",
    "Study Resources:\n",
    "\t•\tUtilize practice questions from CodeHS and the College Board's AP CSP question bank, paying attention to the Big Idea and specific skill tags.\n",
    "\t•\tReview relevant videos, notes, and online resources for areas of weakness.\n",
    "\t•\tConsider working through visual simulations and interactive tools for algorithm analysis and Boolean logic.\n",
    "\n",
    "Final Thoughts:\n",
    "This practice exam was a helpful checkpoint. While I feel confident in most coding-related logic and structure, I now know exactly which areas to focus on in my review. I’m aiming for more consistency across all topics before the AP exam. With targeted review and hands-on problem solving, I’m confident I’ll be fully prepared on exam day.\n"
   ]
  }
 ],
 "metadata": {
  "language_info": {
   "name": "python"
  }
 },
 "nbformat": 4,
 "nbformat_minor": 5
}
