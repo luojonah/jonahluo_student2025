{
 "cells": [
  {
   "cell_type": "raw",
   "id": "21cd8fcf",
   "metadata": {
    "vscode": {
     "languageId": "raw"
    }
   },
   "source": [
    "---\n",
    "layout: post\n",
    "title: 2021 Collegeboard MCQ \n",
    "description: Overview of the 2021 Collegeboard MCQ\n",
    "permalink: /StudyMCQ\n",
    "comments: true\n",
    "---"
   ]
  },
  {
   "cell_type": "markdown",
   "id": "5a356536",
   "metadata": {},
   "source": [
    "<img src=\"{{ site.baseurl }}/images/mcq/score.png\">\n",
    "<img src=\"{{ site.baseurl }}/images/mcq/big_idea.png\">\n",
    "<img src=\"{{ site.baseurl }}/images/mcq/topics.png\">"
   ]
  },
  {
   "cell_type": "markdown",
   "id": "d79789eb",
   "metadata": {},
   "source": [
    "# AP Computer Science Principles Practice Exam Reflection\n",
    "\n",
    "**Score:** 57/70\n",
    "\n",
    "## What I Did Well\n",
    "\n",
    "I performed strongly on most units that involved understanding and interpreting program functionality. For example, I scored:\n",
    "\n",
    "- **100%** on topics like:\n",
    "  - Random Values (3.15)  \n",
    "  - Developing Algorithms (3.9)  \n",
    "  - The Internet (4.1)  \n",
    "  - Safe Computing (5.6)\n",
    "\n",
    "- **91%** on Iteration (3.8), showing comfort with loops and repeating patterns in code.\n",
    "\n",
    "- **100%** on:\n",
    "  - Conditionals (3.6)  \n",
    "  - Nested Conditionals (3.7), indicating a strong grasp of logical decision-making in Python programs.\n",
    "\n",
    "## What I Struggled With\n",
    "\n",
    "- **Binary Search (3.11):** Scored **0%** — I need to revisit how binary search works conceptually and in code.\n",
    "\n",
    "- **Boolean Expressions (3.5):** Scored **50%**\n",
    "\n",
    "- **Data Abstraction (3.2):** Score was **N/A**, but this topic also needs attention.\n",
    "\n",
    "- I struggled with evaluating or comparing algorithms based on **efficiency or output**, especially in problems with:\n",
    "  - Dense visuals  \n",
    "  - Multi-step logic\n",
    "\n",
    "## Performance by Big Idea\n",
    "\n",
    "| Big Idea                          | Number of Questions | Average Performance % |\n",
    "|----------------------------------|---------------------|------------------------|\n",
    "| CRD: Creative Development        | 7                   | 43%                    |\n",
    "| AAP: Algorithms and Programming  | 24                  | 79%                    |\n",
    "| DAT: Data                        | 14                  | 86%                    |\n",
    "| CSN: Computing Systems and Networks | 9               | 89%                    |\n",
    "| IOC: Impact of Computing         | 16                  | 94%                    |\n",
    "\n",
    "## How I Plan to Improve\n",
    "\n",
    "### 1. Prioritize Creative Development (CRD)\n",
    "\n",
    "- Dedicate a significant portion of study time to the **Creative Development** Big Idea.\n",
    "- Focus areas:\n",
    "  - Iterative design process  \n",
    "  - Collaboration strategies  \n",
    "  - Ethical considerations  \n",
    "  - Responsible use of technology\n",
    "- Review examples and practice questions specifically related to CRD.\n",
    "\n",
    "### 2. Target Weak Areas within Algorithms and Programming (AAP)\n",
    "\n",
    "- **Binary Search:** Deepen understanding of the concept and practice coding it.\n",
    "- **Boolean Expressions:** Review truth tables, logic comparisons, and common traps.\n",
    "- **Data Abstraction:** Explore how data structures simplify code and improve reusability.\n",
    "- **Algorithm Analysis:** Practice evaluating time/space efficiency and output correctness.\n",
    "\n",
    "### 3. Maintain Strengths\n",
    "\n",
    "- Continue reviewing key concepts in:\n",
    "  - **Data (DAT)**\n",
    "  - **Computing Systems and Networks (CSN)**\n",
    "  - **Impact of Computing (IOC)**\n",
    "- Use practice questions and concept reviews to reinforce.\n",
    "\n",
    "## Study Resources\n",
    "\n",
    "- Practice questions from **CodeHS** and the **College Board's AP CSP question bank**, with attention to Big Ideas and skill tags.\n",
    "- Review videos, notes, and online resources targeting areas of weakness.\n",
    "- Use **visual simulations** and **interactive tools** for algorithm analysis and Boolean logic.\n",
    "\n",
    "## Final Thoughts\n",
    "\n",
    "This practice exam was a helpful checkpoint. While I feel confident in most coding-related logic and structure, I now know exactly which areas to focus on in my review.\n",
    "\n",
    "With **targeted review** and **hands-on problem solving**, I’m confident I’ll be fully prepared on exam day.\n",
    "\n"
   ]
  }
 ],
 "metadata": {
  "language_info": {
   "name": "python"
  }
 },
 "nbformat": 4,
 "nbformat_minor": 5
}
