{
 "cells": [
  {
   "cell_type": "code",
   "execution_count": null,
   "metadata": {},
   "outputs": [],
   "source": [
    "---\n",
    "layout: base\n",
    "title: FC Barcelona\n",
    "---\n"
   ]
  },
  {
   "cell_type": "markdown",
   "metadata": {},
   "source": [
    "\n",
    "# FC Barcelona Overview\n",
    "\n",
    "![Camp Nou - FC Barcelona Stadium](https://www.fcbarcelona.com/photo-resources/2021/08/09/d4236e65-4502-4cca-816d-a97c441abdac/Camp-nou-1.jpg?width=1200&height=750)\n",
    "\n",
    "## Club History\n",
    "\n",
    "FC Barcelona, also known as Barça, was founded in 1899 by a group of Swiss, English, and Catalan footballers led by Joan Gamper. From its inception, the club has been deeply tied to Catalan culture and identity, embracing the motto “Més que un club” (More than a club). Over the years, Barça has become one of the most successful football clubs in the world, with a rich history of domestic and international achievements.\n",
    "\n",
    "---\n",
    "\n",
    "## Achievements and Legacy\n",
    "\n",
    "![Lionel Messi Barcelona](https://cdn.vox-cdn.com/thumbor/mv7Q2JYfS-C2FO7y5HXjwGUsa4E=/0x44:3000x2044/1200x800/filters:focal(0x44:3000x2044)/cdn.vox-cdn.com/uploads/chorus_image/image/48860165/GettyImages-510840640.0.jpg)\n",
    "\n",
    "- **La Liga Titles**: FC Barcelona has won La Liga 27 times, making it one of the most dominant clubs in Spanish football history.\n",
    "- **UEFA Champions League**: Barça has lifted the prestigious UEFA Champions League trophy 5 times, establishing itself as a powerhouse in European football.\n",
    "- **Copa del Rey**: Barcelona has won the Copa del Rey a record 31 times, cementing its legacy in domestic cup competitions.\n",
    "- **FIFA Club World Cup**: The club has triumphed in the FIFA Club World Cup 3 times, adding to its international glory.\n",
    "\n",
    "---\n",
    "\n",
    "## Iconic Players\n",
    "\n",
    "Throughout its history, FC Barcelona has been home to some of the greatest football players ever. Legends such as Johan Cruyff, Ronaldinho, and Xavi have left an indelible mark on the club. Perhaps the most iconic figure is **Lionel Messi**, who, over his 21-year career at Barcelona, became the club’s all-time leading scorer and a symbol of its modern success.\n",
    "\n",
    "---\n",
    "\n",
    "## The Home Ground: Camp Nou\n",
    "\n",
    "![Camp Nou](https://upload.wikimedia.org/wikipedia/commons/thumb/4/40/Camp_Nou_Panoramic_Interior_View.jpg/1050px-Camp_Nou_Panoramic_Interior_View.jpg)\n",
    "\n",
    "FC Barcelona plays its home games at **Camp Nou**, the largest stadium in Europe with a seating capacity of over 99,000. The stadium has witnessed some of the most memorable moments in football history and continues to be a pilgrimage site for football fans around the world.\n",
    "\n",
    "---\n",
    "\n",
    "## The Barcelona Way\n",
    "\n",
    "FC Barcelona is known not only for its titles but also for its style of play, often referred to as \"tiki-taka.\" This short-passing, possession-based football philosophy was brought to its peak under managers like **Pep Guardiola** and remains a cornerstone of Barça’s identity. The club’s renowned La Masia academy has produced countless talented players, ensuring that the \"Barcelona Way\" continues to influence football for years to come.\n",
    "\n",
    "---\n"
   ]
  }
 ],
 "metadata": {
  "kernelspec": {
   "display_name": "Python 3",
   "language": "python",
   "name": "python3"
  },
  "language_info": {
   "name": "python",
   "version": "3.10.12"
  }
 },
 "nbformat": 4,
 "nbformat_minor": 2
}
