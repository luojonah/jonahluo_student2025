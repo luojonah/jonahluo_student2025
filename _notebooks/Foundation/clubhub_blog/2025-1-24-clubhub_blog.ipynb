{
 "cells": [
  {
   "cell_type": "raw",
   "metadata": {},
   "source": [
    "---\n",
    "layout: post\n",
    "title: ClubHub Blog \n",
    "description: Features, Updates and Progress of Club Hub\n",
    "comments: true\n",
    "---"
   ]
  },
  {
   "cell_type": "markdown",
   "metadata": {},
   "source": [
    "## What is Club Hub?\n",
    "\n",
    "Club Hub is a comprehensive web application designed to centralize all club-related information for Del Norte High School. It streamlines the student experience by providing features such as club matching, updates on club events and announcements, and personalized profiles. With Club Hub, managing and exploring club activities has never been easier—bringing all your club-related endeavors together in one convenient platform."
   ]
  },
  {
   "cell_type": "markdown",
   "metadata": {
    "vscode": {
     "languageId": "raw"
    }
   },
   "source": [
    "## Individual Feature Overview\n",
    "\n",
    "My feature is called club creator. It is a page on the website where users can create new clubs by inputting the club name, club description, and choosing club topics from a preset checklist of topics. When the user submits the form, the data will be stored in the backend database schema and the club will be created. Multiple clubs with the same name cannot be created. This feature is essentially the backbone of our project because many of our other features utilize the club creator feature such as joining/leaving clubs, leadership roles, and matching users to clubs based on their similar interests. Ultimately, the feature should work as follows:\n",
    "\n",
    "1. Users open up the submission form and input data for a new club they would like to create. \n",
    "2. After submission, the club data should be posted into backend schema and displayed on the frontend as a new club in the club container.\n",
    "3. For each club in the club box, they have their own card that displays the club information as well as the creator of the club and members and member count.\n",
    "4. There is a delete button on the club card that allows only the creator of the club to delete it (authentication, @tokenrequired)\n",
    "5. There is an update button on the club card that only allows the creator to update the club information\n",
    "6. The delete and update buttons on the club cards only display for the clubs that the user created, otherwise the club cards won't have delete or update."
   ]
  },
  {
   "cell_type": "markdown",
   "metadata": {},
   "source": [
    "## Formatting Response Data (JSON) into DOM"
   ]
  },
  {
   "cell_type": "markdown",
   "metadata": {},
   "source": [
    "**API Response to DOM Update**: JSON responses from the API are parsed on the front-end and rendered dynamically in the DOM. This function also includes **iteration** where a for loop is utilized to display each club in their own card on the frontend."
   ]
  },
  {
   "cell_type": "code",
   "execution_count": null,
   "metadata": {
    "vscode": {
     "languageId": "javascript"
    }
   },
   "outputs": [],
   "source": [
    "const response = await fetch(`${pythonURI}/api/club`, {\n",
    "    method: 'GET',\n",
    "    headers: {\n",
    "        'Content-Type': 'application/json',\n",
    "        'Authorization': `Bearer ${localStorage.getItem('token')}`\n",
    "    }\n",
    "});\n",
    "\n",
    "if (response.ok) {\n",
    "    // club is defined as a JSON list\n",
    "    const clubs = await response.json();\n",
    "    clubListContainer.innerHTML = ''; // Clear existing clubs\n",
    "    // iterates over each club in the clubs list \n",
    "    clubs.forEach(club => {\n",
    "        const clubBox = document.createElement('div');\n",
    "        clubBox.classList.add('club-box');\n",
    "        clubBox.innerHTML = `\n",
    "            <h3>${club.name}</h3>\n",
    "            <p><strong>Description:</strong> ${club.description}</p>\n",
    "            <p><strong>Topics:</strong> ${club.topics.join(', ')}</p>\n",
    "            <button class=\"delete-btn\" data-id=\"${club.id}\">Delete Club</button>\n",
    "        `;\n",
    "        clubListContainer.appendChild(clubBox);"
   ]
  },
  {
   "cell_type": "markdown",
   "metadata": {},
   "source": [
    "## Algorithmic Code Requests"
   ]
  },
  {
   "cell_type": "markdown",
   "metadata": {},
   "source": [
    "This code extracts data from the parameters (request body) from a PUT request from HTML on the frontend:\n",
    "```python\n",
    "data = request.get_json()\n",
    "```\n",
    "which should be in this JSON format:\n",
    "```json\n",
    "{\n",
    "    \"id\": 1,\n",
    "    \"name\": \"Updated Club Name\",\n",
    "    \"description\": \"Updated club description\",\n",
    "    \"topics\": [\"AI\", \"Cybersecurity\"]\n",
    "}\n",
    "```\n",
    "After this, the updated information is returned in JSON format using this code:\n",
    "```python\n",
    "return jsonify(club.to_dict())\n",
    "```\n",
    "which would look like this:\n",
    "```json\n",
    "{\n",
    "    \"id\": 1,\n",
    "    \"name\": \"Updated Club Name\",\n",
    "    \"description\": \"Updated club description\",\n",
    "    \"topics\": [\"AI\", \"Cybersecurity\"],\n",
    "    \"user_id\": \"some_user\"\n",
    "}\n",
    "```"
   ]
  },
  {
   "cell_type": "code",
   "execution_count": null,
   "metadata": {},
   "outputs": [],
   "source": [
    "def put(self):\n",
    "    \"\"\"\n",
    "    Update a club.\n",
    "    \"\"\"\n",
    "    current_user = g.current_user\n",
    "    data = request.get_json()  # Extract JSON body from request\n",
    "\n",
    "    # Find the club by ID\n",
    "    club = Club.query.get(data['id'])\n",
    "    if club is None:\n",
    "        return {'message': 'Club not found'}, 404  # Return error response if club not found\n",
    "\n",
    "    # Update the club with the provided data\n",
    "    club.name = data['name']\n",
    "    club.description = data['description']\n",
    "    club.topics = data['topics']\n",
    "\n",
    "    # Commit updates to the database\n",
    "    club.update(data)  \n",
    "\n",
    "    return jsonify(club.to_dict())  # Return the updated club as a JSON response"
   ]
  },
  {
   "cell_type": "markdown",
   "metadata": {},
   "source": [
    "## Call to Algorithmic Request"
   ]
  },
  {
   "cell_type": "markdown",
   "metadata": {},
   "source": [
    "This code is executed after the form on the frontend is submitted using an event listener. The fetch request sends a POST request to the backend with JSON data, including the club name, description, and topics. If the response is successful (response.ok), it retrieves the newly created club's data, converts it from JSON, and dynamically adds it to the UI. If the request fails, the response contains an error message, which can be displayed to the user.\n",
    "\n",
    "This code also includes **sequencing** which is seen with the try method, making the post method the first step of the execution in the entire form submission function. It also includes **selection** where if the club is successfully posted, the club card will be created and displayed, or else an error message will be alerted to the user."
   ]
  },
  {
   "cell_type": "code",
   "execution_count": null,
   "metadata": {
    "vscode": {
     "languageId": "javascript"
    }
   },
   "outputs": [],
   "source": [
    "try {\n",
    "// Send a POST request to the backend\n",
    "const response = await fetch(`${pythonURI}/api/club`, {\n",
    "    method: 'POST',\n",
    "    headers: {\n",
    "        'Content-Type': 'application/json',\n",
    "        'Authorization': `Bearer ${localStorage.getItem('token')}`\n",
    "    },\n",
    "    body: JSON.stringify(payload)\n",
    "});\n",
    "\n",
    "if (response.ok) {\n",
    "    const createdClub = await response.json();\n",
    "\n",
    "    // Add the newly created club to the UI\n",
    "    const clubBox = document.createElement('div');\n",
    "    clubBox.classList.add('club-box');\n",
    "    clubBox.innerHTML = `\n",
    "        <h3>${createdClub.name}</h3>\n",
    "        <p><strong>Description:</strong> ${createdClub.description}</p>\n",
    "        <p><strong>Topics:</strong> ${createdClub.topics.join(', ')}</p>\n",
    "        <button class=\"delete-btn\" data-id=\"${createdClub.id}\">Delete Club</button>\n",
    "    `;\n",
    "    clubListContainer.appendChild(clubBox);\n",
    "});\n",
    "\n",
    "} else {\n",
    "    const error = await response.json();\n",
    "    alert(`Error: ${error.message}`);\n",
    "}"
   ]
  }
 ],
 "metadata": {
  "kernelspec": {
   "display_name": "Python 3",
   "language": "python",
   "name": "python3"
  },
  "language_info": {
   "codemirror_mode": {
    "name": "ipython",
    "version": 3
   },
   "file_extension": ".py",
   "mimetype": "text/x-python",
   "name": "python",
   "nbconvert_exporter": "python",
   "pygments_lexer": "ipython3",
   "version": "3.10.12"
  }
 },
 "nbformat": 4,
 "nbformat_minor": 2
}
