{
 "cells": [
  {
   "cell_type": "raw",
   "metadata": {},
   "source": [
    "---\n",
    "layout: post\n",
    "title: ClubHub Blog \n",
    "description: Features, Updates and Progress of Club Hub\n",
    "comments: true\n",
    "---"
   ]
  },
  {
   "cell_type": "markdown",
   "metadata": {},
   "source": [
    "## What is Club Hub?\n",
    "\n",
    "Club Hub is a comprehensive web application designed to centralize all club-related information for Del Norte High School. It streamlines the student experience by providing features such as club matching, updates on club events and announcements, and personalized profiles. With Club Hub, managing and exploring club activities has never been easier—bringing all your club-related endeavors together in one convenient platform."
   ]
  },
  {
   "cell_type": "markdown",
   "metadata": {
    "vscode": {
     "languageId": "raw"
    }
   },
   "source": [
    "## Individual Feature Overview\n",
    "\n",
    "My feature is called club creator. It is a page on the website where users can create new clubs by inputting the club name, club description, and choosing club topics from a preset checklist of topics. When the user submits the form, the data will be stored in the backend database schema and the club will be created. Multiple clubs with the same name cannot be created. This feature is essentially the backbone of our project because many of our other features utilize the club creator feature such as joining/leaving clubs, leadership roles, and matching users to clubs based on their similar interests. Ultimately, the feature should work as follows:\n",
    "\n",
    "1. Users open up the submission form and input data for a new club they would like to create. \n",
    "2. After submission, the club data should be posted into backend schema and displayed on the frontend as a new club in the club container.\n",
    "3. For each club in the club box, they have their own card that displays the club information as well as the creator of the club and members and member count.\n",
    "4. There is a delete button on the club card that allows only the creator of the club to delete it (authentication, @tokenrequired)\n",
    "5. There is an update button on the club card that only allows the creator to update the club information\n",
    "6. The delete and update buttons on the club cards only display for the clubs that the user created, otherwise the club cards won't have delete or update."
   ]
  },
  {
   "cell_type": "markdown",
   "metadata": {},
   "source": [
    "## Big Idea 2: Use of Lists, Dictionaries, and Database"
   ]
  },
  {
   "cell_type": "markdown",
   "metadata": {},
   "source": [
    "**Lists (Rows)**: Lists are used to represent collections of objects, such as clubs retrieved from the database or topics selected in the front-end form.  "
   ]
  },
  {
   "cell_type": "code",
   "execution_count": null,
   "metadata": {},
   "outputs": [],
   "source": [
    "clubs = Club.query.all()  # Retrieves all clubs from the database\n",
    "return jsonify([club.to_dict() for club in clubs])  # Converts the list to JSON"
   ]
  },
  {
   "cell_type": "markdown",
   "metadata": {},
   "source": [
    "**Dictionaries (Columns)**: Dictionaries are employed to structure data for communication between the API and the front-end."
   ]
  },
  {
   "cell_type": "code",
   "execution_count": null,
   "metadata": {},
   "outputs": [],
   "source": [
    "def to_dict(self):\n",
    "    return {\n",
    "        \"id\": self.id,\n",
    "        \"name\": self.name,\n",
    "        \"description\": self.description,\n",
    "        \"topics\": self.topics,\n",
    "        \"user_id\": self.user_id\n",
    "    }"
   ]
  },
  {
   "cell_type": "markdown",
   "metadata": {},
   "source": [
    "**Database**: SQLAlchemy is used to manage the database, translating Python objects to rows and columns in the database table."
   ]
  },
  {
   "cell_type": "code",
   "execution_count": null,
   "metadata": {},
   "outputs": [],
   "source": [
    "class Club(db.Model):\n",
    "    __tablename__ = 'clubs'\n",
    "    id = db.Column(db.Integer, primary_key=True)\n",
    "    name = db.Column(db.String(255), unique=True, nullable=False)\n",
    "    description = db.Column(db.String(255), nullable=False)\n",
    "    topics = db.Column(db.JSON, nullable=False)\n",
    "    user_id = db.Column(db.String(255), db.ForeignKey('users._uid'), nullable=False)\n"
   ]
  },
  {
   "cell_type": "markdown",
   "metadata": {},
   "source": [
    "## Formatting Response Data (JSON) into DOM"
   ]
  },
  {
   "cell_type": "markdown",
   "metadata": {},
   "source": [
    "**API Response to DOM Update**: JSON responses from the API are parsed on the front-end and rendered dynamically in the DOM."
   ]
  },
  {
   "cell_type": "code",
   "execution_count": null,
   "metadata": {
    "vscode": {
     "languageId": "javascript"
    }
   },
   "outputs": [],
   "source": [
    "// Send a POST request to the backend\n",
    "const response = await fetch('http://127.0.0.1:8887/api/club', {\n",
    "    method: 'POST',\n",
    "    headers: {\n",
    "        'Content-Type': 'application/json',\n",
    "        'Authorization': `Bearer ${localStorage.getItem('token')}` // will modify later with JWT token reqs\n",
    "    },\n",
    "    body: JSON.stringify(payload)\n",
    "});\n",
    "\n",
    "// more code to put data into club box was here as well as delete functionality\n",
    "\n",
    "const response = await fetch('http://127.0.0.1:8887/api/club', { \n",
    "    method: 'GET', \n",
    "    headers: { \n",
    "        'Authorization': `Bearer ${localStorage.getItem('token')}` \n",
    "    } \n",
    "});\n",
    "const clubs = await response.json();\n",
    "clubs.forEach(club => {\n",
    "    const clubBox = document.createElement('div');\n",
    "    clubBox.classList.add('club-box');\n",
    "    clubBox.innerHTML = `\n",
    "        <h3>${club.name}</h3>\n",
    "        <p><strong>Description:</strong> ${club.description}</p>\n",
    "        <p><strong>Topics:</strong> ${club.topics.join(', ')}</p>\n",
    "    `;\n",
    "    clubListContainer.appendChild(clubBox);\n",
    "});"
   ]
  },
  {
   "cell_type": "markdown",
   "metadata": {},
   "source": [
    "**Parsing Topics (List)**: The topics field, stored as a JSON array in the database, is parsed and displayed as a comma-separated string."
   ]
  },
  {
   "cell_type": "code",
   "execution_count": null,
   "metadata": {
    "vscode": {
     "languageId": "javascript"
    }
   },
   "outputs": [],
   "source": [
    "<p><strong>Topics:</strong> ${club.topics.join(', ')}</p>"
   ]
  },
  {
   "cell_type": "markdown",
   "metadata": {},
   "source": [
    "**Error Handling**: Error messages returned in JSON format are displayed as alerts in the UI."
   ]
  },
  {
   "cell_type": "code",
   "execution_count": null,
   "metadata": {
    "vscode": {
     "languageId": "javascript"
    }
   },
   "outputs": [],
   "source": [
    "if (!response.ok) {\n",
    "    const error = await response.json();\n",
    "    alert(`Error: ${error.message}`);\n",
    "}"
   ]
  },
  {
   "cell_type": "markdown",
   "metadata": {},
   "source": [
    "## Methods to Query and Modify Database (CRUD Operations)"
   ]
  },
  {
   "cell_type": "markdown",
   "metadata": {},
   "source": [
    "**Extracting Rows (Query)**: Methods like Club.query.all() and Club.query.get(id) are used to fetch rows from the database as Python objects."
   ]
  },
  {
   "cell_type": "code",
   "execution_count": null,
   "metadata": {},
   "outputs": [],
   "source": [
    "clubs = Club.query.all()\n",
    "return jsonify([club.to_dict() for club in clubs])"
   ]
  },
  {
   "cell_type": "markdown",
   "metadata": {},
   "source": [
    "**Modifying Columns**: The create(), update(), and delete() methods in the Club class allow modification of individual columns in the database rows."
   ]
  },
  {
   "cell_type": "code",
   "execution_count": null,
   "metadata": {},
   "outputs": [],
   "source": [
    "# creates a new club in the database\n",
    "def create(self):\n",
    "    try:\n",
    "        db.session.add(self)\n",
    "        db.session.commit()\n",
    "    except IntegrityError as e:\n",
    "        db.session.rollback()\n",
    "        logging.warning(f\"IntegrityError: Could not create club '{self.name}' due to {str(e)}.\")\n",
    "        return None\n",
    "    return self\n",
    "\n",
    "# updates club data in database\n",
    "def update(self, club_data):\n",
    "    \"\"\"\n",
    "    Updates the club with new data.\n",
    "    \"\"\"\n",
    "    try:\n",
    "        for key, value in club_data.items():\n",
    "            setattr(self, key, value)  # Dynamically update attributes of the club\n",
    "\n",
    "        db.session.commit()\n",
    "    except IntegrityError as e:\n",
    "        db.session.rollback()\n",
    "        logging.warning(f\"IntegrityError: Could not update club '{self.name}' due to {str(e)}.\")\n",
    "        return None\n",
    "    return self\n",
    "\n",
    "# delete club from database\n",
    "def delete(self):\n",
    "    try:\n",
    "        db.session.delete(self)\n",
    "        db.session.commit()\n",
    "    except IntegrityError:\n",
    "        db.session.rollback()\n",
    "        logging.warning(f\"Could not delete club '{self.name}' due to IntegrityError.\")\n",
    "        return None"
   ]
  },
  {
   "cell_type": "markdown",
   "metadata": {},
   "source": [
    "**Big Idea 1.4: Error Handling in CRUD**: Operations rollback in case of errors to maintain database integrity."
   ]
  },
  {
   "cell_type": "code",
   "execution_count": null,
   "metadata": {},
   "outputs": [],
   "source": [
    "if not data:\n",
    "                return {'message': 'No input data provided'}, 400\n",
    "            if 'name' not in data:\n",
    "                return {'message': 'Club name is required'}, 400\n",
    "            if 'description' not in data:\n",
    "                return {'message': 'Club description is required'}, 400\n",
    "            if 'topics' not in data:\n",
    "                return {'message': 'Club topics are required'}, 400"
   ]
  }
 ],
 "metadata": {
  "kernelspec": {
   "display_name": "Python 3",
   "language": "python",
   "name": "python3"
  },
  "language_info": {
   "codemirror_mode": {
    "name": "ipython",
    "version": 3
   },
   "file_extension": ".py",
   "mimetype": "text/x-python",
   "name": "python",
   "nbconvert_exporter": "python",
   "pygments_lexer": "ipython3",
   "version": "3.10.12"
  }
 },
 "nbformat": 4,
 "nbformat_minor": 2
}
