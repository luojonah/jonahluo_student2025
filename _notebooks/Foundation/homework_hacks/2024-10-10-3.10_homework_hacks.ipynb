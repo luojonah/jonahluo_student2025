{
 "cells": [
  {
   "cell_type": "raw",
   "metadata": {
    "vscode": {
     "languageId": "raw"
    }
   },
   "source": [
    "---\n",
    "layout: post\n",
    "title: 3.10 Homework \n",
    "description: Homework Hacks\n",
    "comments: true\n",
    "permalink: /310/\n",
    "---"
   ]
  },
  {
   "cell_type": "markdown",
   "metadata": {},
   "source": [
    "# Homework Hacks for Lesson 3.10"
   ]
  },
  {
   "cell_type": "markdown",
   "metadata": {},
   "source": [
    "## Popcorn Hack #1\n",
    "Create a list of your choosing.\n",
    "<br>Remove the last element or item in that list.\n",
    "<br>Remove the first element or item in that list.\n",
    "<br>Remove an element or item in the list that has a different index than the first or last element/item.\n",
    "<br>Print the final list.\n",
    "\n"
   ]
  },
  {
   "cell_type": "code",
   "execution_count": null,
   "metadata": {},
   "outputs": [],
   "source": [
    "# Step 1: Create a list with some items\n",
    "fruits = [\"apple\", \"banana\", \"cherry\", \"date\", \"elderberry\"]\n",
    "\n",
    "# Step 2: Remove the last element from the list\n",
    "fruits.pop()  # Removes \"elderberry\" from the list\n",
    "\n",
    "# Step 3: Remove the first element from the list\n",
    "fruits.pop(0)  # Removes \"apple\" from the list\n",
    "\n",
    "# Step 4: Remove an element with a different index (not first or last)\n",
    "fruits.pop(1)  # Removes \"cherry\" from the list (now at index 1 after previous removals)\n",
    "\n",
    "# Step 5: Print the final list\n",
    "print(\"Final list after removals:\", fruits)\n"
   ]
  },
  {
   "cell_type": "markdown",
   "metadata": {},
   "source": [
    "# Popcorn Hack #2\n",
    "Let's see what you can do with a JS array. Reverse the order of your array WITHOUT creating a new array. This should be quick!"
   ]
  },
  {
   "cell_type": "code",
   "execution_count": null,
   "metadata": {
    "vscode": {
     "languageId": "javascript"
    }
   },
   "outputs": [],
   "source": [
    "// Step 1: Create an array with some elements\n",
    "let fruits = [\"apple\", \"banana\", \"cherry\", \"date\", \"elderberry\"];\n",
    "\n",
    "// Step 2: Use the reverse() method to reverse the order of the array in place\n",
    "fruits.reverse();  // This modifies the original array directly\n",
    "\n",
    "// Step 3: Print the reversed array\n",
    "console.log(\"Reversed array:\", fruits);  // Outputs the array in its new reversed order\n"
   ]
  },
  {
   "cell_type": "markdown",
   "metadata": {},
   "source": [
    "# Homework Hack 1\n",
    "Create a program that lets users manage a list of their choosing. Users can add elements, remove them, check if an element exists, and display the current list.\n",
    "<br>A function that can find the maximum and minimum value of a list using iteration."
   ]
  },
  {
   "cell_type": "code",
   "execution_count": null,
   "metadata": {},
   "outputs": [],
   "source": [
    "# Initialize an empty list for the user's items\n",
    "user_list = []\n",
    "\n",
    "# Function to add an element to the list\n",
    "def add_element(element):\n",
    "    user_list.append(element)  # Adds the specified element to the end of the list\n",
    "\n",
    "# Function to remove an element from the list\n",
    "def remove_element(element):\n",
    "    if element in user_list:  # Checks if the element exists in the list\n",
    "        user_list.remove(element)  # Removes the specified element\n",
    "    else:\n",
    "        print(\"Element not found in the list.\")  # Notifies the user if the element isn't in the list\n",
    "\n",
    "# Function to check if an element exists in the list\n",
    "def check_element(element):\n",
    "    if element in user_list:  # Checks if the element exists in the list\n",
    "        print(f\"{element} is in the list.\")\n",
    "    else:\n",
    "        print(f\"{element} is not in the list.\")\n",
    "\n",
    "# Function to display the current list\n",
    "def display_list():\n",
    "    print(\"Current list:\", user_list)  # Prints the list to show the user all items\n",
    "\n",
    "# Function to find the maximum and minimum value of the list using iteration\n",
    "def find_max_min():\n",
    "    if not user_list:  # Checks if the list is empty\n",
    "        print(\"The list is empty.\")\n",
    "        return None, None  # Returns None for both max and min if the list is empty\n",
    "    \n",
    "    # Initializing max and min values as the first item in the list\n",
    "    max_value = user_list[0]\n",
    "    min_value = user_list[0]\n",
    "    \n",
    "    # Iterate over each item in the list\n",
    "    for item in user_list:\n",
    "        if item > max_value:  # Updates max_value if the current item is greater\n",
    "            max_value = item\n",
    "        if item < min_value:  # Updates min_value if the current item is smaller\n",
    "            min_value = item\n",
    "\n",
    "    # Print and return the max and min values\n",
    "    print(f\"Maximum value: {max_value}, Minimum value: {min_value}\")\n",
    "    return max_value, min_value\n",
    "\n",
    "# Main program loop\n",
    "while True:\n",
    "    # Display options to the user\n",
    "    print(\"\\nChoose an option:\")\n",
    "    print(\"1. Add an element\")\n",
    "    print(\"2. Remove an element\")\n",
    "    print(\"3. Check if an element exists\")\n",
    "    print(\"4. Display the list\")\n",
    "    print(\"5. Find maximum and minimum values\")\n",
    "    print(\"6. Quit\")\n",
    "\n",
    "    # Get user input\n",
    "    choice = input(\"Enter your choice (1-6): \")\n",
    "    \n",
    "    if choice == \"1\":\n",
    "        # Add element\n",
    "        element = input(\"Enter an element to add: \")\n",
    "        add_element(element)\n",
    "    elif choice == \"2\":\n",
    "        # Remove element\n",
    "        element = input(\"Enter an element to remove: \")\n",
    "        remove_element(element)\n",
    "    elif choice == \"3\":\n",
    "        # Check element\n",
    "        element = input(\"Enter an element to check: \")\n",
    "        check_element(element)\n",
    "    elif choice == \"4\":\n",
    "        # Display list\n",
    "        display_list()\n",
    "    elif choice == \"5\":\n",
    "        # Find max and min\n",
    "        find_max_min()\n",
    "    elif choice == \"6\":\n",
    "        # Quit the program\n",
    "        print(\"Goodbye!\")\n",
    "        break  # Exits the loop, ending the program\n",
    "    else:\n",
    "        print(\"Invalid choice. Please select a number between 1 and 6.\")\n"
   ]
  },
  {
   "cell_type": "markdown",
   "metadata": {},
   "source": [
    "# Homework Hack 2\n",
    "It's time to go shopping! Try to create a program that allows users to manage items using an array, which can be visually represented with a shopping cart.\n",
    "<br>While not necessary, feel free to show the cart filling up with icons (items) as the user adds or subtracts items."
   ]
  },
  {
   "cell_type": "code",
   "execution_count": null,
   "metadata": {
    "vscode": {
     "languageId": "javascript"
    }
   },
   "outputs": [],
   "source": [
    "// Initialize an empty array to represent the shopping cart\n",
    "let shoppingCart = [];\n",
    "\n",
    "// Function to display the current items in the shopping cart\n",
    "function displayCart() {\n",
    "    if (shoppingCart.length === 0) {\n",
    "        console.log(\"Your cart is empty.\");\n",
    "    } else {\n",
    "        // Joins the cart items with a comma for a nice display\n",
    "        console.log(\"Your shopping cart:\", shoppingCart.join(\" \"));\n",
    "    }\n",
    "}\n",
    "\n",
    "// Function to add an item to the cart\n",
    "function addItem(item) {\n",
    "    shoppingCart.push(item);  // Adds the specified item to the end of the cart array\n",
    "    console.log(`${item} added to your cart.`);\n",
    "    displayCart();            // Calls displayCart to show updated cart\n",
    "}\n",
    "\n",
    "// Function to remove an item from the cart\n",
    "function removeItem(item) {\n",
    "    let index = shoppingCart.indexOf(item);  // Finds the index of the specified item\n",
    "    if (index !== -1) {                      // Checks if the item exists in the cart\n",
    "        shoppingCart.splice(index, 1);       // Removes the item at the found index\n",
    "        console.log(`${item} removed from your cart.`);\n",
    "    } else {\n",
    "        console.log(`${item} is not in your cart.`);\n",
    "    }\n",
    "    displayCart();                           // Calls displayCart to show updated cart\n",
    "}\n",
    "\n",
    "// Function to check if an item exists in the cart\n",
    "function checkItem(item) {\n",
    "    if (shoppingCart.includes(item)) {  // Checks if the item is in the cart\n",
    "        console.log(`${item} is in your cart.`);\n",
    "    } else {\n",
    "        console.log(`${item} is not in your cart.`);\n",
    "    }\n",
    "}\n",
    "\n",
    "// Main function to manage the shopping cart\n",
    "function manageCart() {\n",
    "    while (true) {\n",
    "        // Display options to the user\n",
    "        let choice = prompt(\"Choose an option:\\n1. Add an item\\n2. Remove an item\\n3. Check an item\\n4. View cart\\n5. Quit\");\n",
    "\n",
    "        if (choice === \"1\") {\n",
    "            // Add an item\n",
    "            let item = prompt(\"Enter the item to add (e.g., 🍎, 🍌, 🥛):\");\n",
    "            addItem(item);\n",
    "        } else if (choice === \"2\") {\n",
    "            // Remove an item\n",
    "            let item = prompt(\"Enter the item to remove (e.g., 🍎, 🍌, 🥛):\");\n",
    "            removeItem(item);\n",
    "        } else if (choice === \"3\") {\n",
    "            // Check an item\n",
    "            let item = prompt(\"Enter the item to check (e.g., 🍎, 🍌, 🥛):\");\n",
    "            checkItem(item);\n",
    "        } else if (choice === \"4\") {\n",
    "            // Display cart\n",
    "            displayCart();\n",
    "        } else if (choice === \"5\") {\n",
    "            // Quit the program\n",
    "            console.log(\"Thanks for shopping! Goodbye!\");\n",
    "            break;  // Exits the loop, ending the program\n",
    "        } else {\n",
    "            console.log(\"Invalid choice. Please select a number between 1 and 5.\");\n",
    "        }\n",
    "    }\n",
    "}\n",
    "\n",
    "// Start the shopping cart management program\n",
    "manageCart();\n"
   ]
  }
 ],
 "metadata": {
  "language_info": {
   "name": "python"
  }
 },
 "nbformat": 4,
 "nbformat_minor": 2
}
