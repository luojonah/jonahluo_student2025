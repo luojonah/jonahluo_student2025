{
 "cells": [
  {
   "cell_type": "raw",
   "metadata": {
    "vscode": {
     "languageId": "raw"
    }
   },
   "source": [
    "---\n",
    "layout: post\n",
    "title: 3.2 Homework \n",
    "description: Homework Hacks\n",
    "comments: true\n",
    "permalink: /32/\n",
    "---"
   ]
  },
  {
   "cell_type": "markdown",
   "metadata": {},
   "source": [
    "# 3.2 Homework Hacks"
   ]
  },
  {
   "cell_type": "markdown",
   "metadata": {},
   "source": [
    "# 3.2.1 Popcorn Hack 1\n",
    "Create a simple python script to add two integers."
   ]
  },
  {
   "cell_type": "code",
   "execution_count": null,
   "metadata": {},
   "outputs": [],
   "source": [
    "# Define a function that takes two integers as inputs\n",
    "def add_two_integers(a, b):\n",
    "    # Return the sum of the two integers\n",
    "    return a + b\n",
    "\n",
    "# Prompt the user to enter the first integer and convert the input to an integer\n",
    "num1 = int(input(\"Enter first integer: \"))\n",
    "\n",
    "# Prompt the user to enter the second integer and convert the input to an integer\n",
    "num2 = int(input(\"Enter second integer: \"))\n",
    "\n",
    "# Call the function with the two integers provided by the user and store the result in 'result'\n",
    "result = add_two_integers(num1, num2)\n",
    "\n",
    "# Print out the result in a formatted string\n",
    "print(f\"The sum of {num1} and {num2} is: {result}\")\n"
   ]
  },
  {
   "cell_type": "markdown",
   "metadata": {},
   "source": [
    "# 3.2.1 Popcorn Hack 2\n",
    "Popcorn Hack: Simple Python script to count the length of a string."
   ]
  },
  {
   "cell_type": "code",
   "execution_count": null,
   "metadata": {},
   "outputs": [],
   "source": [
    "# Prompt the user to enter a string and store the input in the variable 'user_string'\n",
    "user_string = input(\"Enter a string: \")\n",
    "\n",
    "# Use the len() function to get the length of the string and store it in 'string_length'\n",
    "string_length = len(user_string)\n",
    "\n",
    "# Print the length of the string in a formatted message\n",
    "print(f\"The length of the string is: {string_length}\")\n"
   ]
  },
  {
   "cell_type": "markdown",
   "metadata": {},
   "source": [
    "# 3.2.1 Popcorn Hack 3\n",
    "Popcorn Hack: Simple JavaScript function to check for `null`(`none` in python)."
   ]
  },
  {
   "cell_type": "code",
   "execution_count": null,
   "metadata": {
    "vscode": {
     "languageId": "javascript"
    }
   },
   "outputs": [],
   "source": [
    "// Define a function that takes one argument\n",
    "function isNull(value) {\n",
    "    // Check if the value is strictly equal to null\n",
    "    return value === null;\n",
    "}\n",
    "\n",
    "// Example usage\n",
    "let value = null; // You can change this to test other values\n",
    "console.log(isNull(value)); // Prints 'true' if value is null, otherwise 'false'\n"
   ]
  },
  {
   "cell_type": "markdown",
   "metadata": {},
   "source": [
    "# 3.2.2 Popcorn Hack\n",
    "Create a dictionary, update an item, and add an item."
   ]
  },
  {
   "cell_type": "code",
   "execution_count": null,
   "metadata": {},
   "outputs": [],
   "source": [
    "# Creating a dictionary with initial details about a person\n",
    "person = {\n",
    "    \"name\": \"Aranya\",      # Name of the person\n",
    "    \"age\": 17,            # Age of the person\n",
    "    \"is_student\": False   # Boolean indicating if the person is a student\n",
    "}\n",
    "\n",
    "# Updating the \"age\" item\n",
    "person[\"age\"] = 68  # Modify the age from 25 to 26\n",
    "\n",
    "# Adding a new item to the dictionary\n",
    "person[\"friend\"] = {        # Adding a new key \"friend\" with a nested dictionary as the value\n",
    "    \"name\": \"Jonah\",        # Name of the friend\n",
    "    \"age\": 15,              # Age of the friend\n",
    "    \"is_student\": True      # Boolean indicating if the friend is a student\n",
    "}\n",
    "\n",
    "# Printing the updated dictionary to see all changes\n",
    "print(person)  # Output the updated dictionary to the console\n"
   ]
  },
  {
   "cell_type": "markdown",
   "metadata": {},
   "source": [
    "# 3.2.3 Popcorn Hack\n",
    "Use JSON to make a dictionary, modify it, and update the changes."
   ]
  },
  {
   "cell_type": "code",
   "execution_count": null,
   "metadata": {},
   "outputs": [],
   "source": [
    "import json\n",
    "\n",
    "# Step 1: Creating a dictionary in JSON format and saving it to a file\n",
    "# Initial dictionary\n",
    "person = {\n",
    "    \"name\": \"Alice\",\n",
    "    \"age\": 25,\n",
    "    \"is_student\": False\n",
    "}\n",
    "\n",
    "# Write the dictionary to a JSON file\n",
    "with open('person.json', 'w') as json_file:\n",
    "    json.dump(person, json_file, indent=4)  # Save dictionary to JSON file with readable formatting\n",
    "\n",
    "# Step 2: Loading the dictionary from the JSON file\n",
    "with open('person.json', 'r') as json_file:\n",
    "    person = json.load(json_file)  # Load the JSON file back into a dictionary\n",
    "\n",
    "# Step 3: Modifying the dictionary\n",
    "person[\"age\"] = 26                 # Update the age\n",
    "person[\"friend\"] = {               # Add a new nested dictionary for a friend\n",
    "    \"name\": \"David\",\n",
    "    \"age\": 22,\n",
    "    \"is_student\": True\n",
    "}\n",
    "\n",
    "# Step 4: Updating the JSON file with the modified dictionary\n",
    "with open('person.json', 'w') as json_file:\n",
    "    json.dump(person, json_file, indent=4)  # Save the updated dictionary back to the JSON file\n"
   ]
  },
  {
   "cell_type": "markdown",
   "metadata": {},
   "source": [
    "# 3.2.3 Homework Problem 1\n",
    "<br> 1. Create a dictionary with at least 3 keys. Print the dictionary.\n",
    "<br> 2. Start with this dictionary: person = {\"name\": \"Alice\", \"age\": 30}\n",
    "<br> i. Update the age to 31\n",
    "<br> ii. print the updated dictionary."
   ]
  },
  {
   "cell_type": "code",
   "execution_count": null,
   "metadata": {},
   "outputs": [],
   "source": [
    "# Task 1: Create a dictionary with at least 3 keys and print the dictionary\n",
    "\n",
    "# Creating a dictionary with 3 key-value pairs\n",
    "car = {\n",
    "    \"make\": \"Toyota\",       # Car manufacturer\n",
    "    \"model\": \"Camry\",       # Model of the car\n",
    "    \"year\": 2020            # Year of manufacture\n",
    "}\n",
    "\n",
    "# Printing the dictionary to the console\n",
    "print(\"Initial car dictionary:\", car)  # Outputs the dictionary with its keys and values\n",
    "\n",
    "\n",
    "# Task 2: Start with a given dictionary, update a key, and print the updated dictionary\n",
    "\n",
    "# Initializing the dictionary with the given details\n",
    "person = {\n",
    "    \"name\": \"Alice\",  # Name of the person\n",
    "    \"age\": 30         # Age of the person\n",
    "}\n",
    "\n",
    "# Updating the \"age\" key to a new value\n",
    "person[\"age\"] = 31  # Changes the age from 30 to 31\n",
    "\n",
    "# Printing the updated dictionary to show the change\n",
    "print(\"Updated person dictionary:\", person)  # Outputs the dictionary with the updated age\n"
   ]
  }
 ],
 "metadata": {
  "language_info": {
   "name": "python"
  }
 },
 "nbformat": 4,
 "nbformat_minor": 2
}
