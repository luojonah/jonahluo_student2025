{
 "cells": [
  {
   "cell_type": "raw",
   "metadata": {
    "vscode": {
     "languageId": "raw"
    }
   },
   "source": [
    "---\n",
    "layout: post\n",
    "title: Sprint 2 Review \n",
    "description: My experience with Sprint 2\n",
    "comments: true\n",
    "---"
   ]
  },
  {
   "cell_type": "markdown",
   "metadata": {},
   "source": [
    "# Sprint 2 Review"
   ]
  },
  {
   "cell_type": "markdown",
   "metadata": {},
   "source": [
    "\n",
    "In Sprint 2, I had the opportunity to teach about conditionals and nested conditionals, while other students covered foundational topics in <br>Python and JavaScript, such as variables, arrays, and data file types. This section was particularly memorable due to the creative <br>approaches each group brought to their lessons. We used vibrant, themed lesson pages, making the material more visually engaging and fun to <br>explore. This added a unique element to each lesson and helped to sustain the class's interest, keeping us all involved and attentive.\n",
    "<br>\n",
    "<br>What really made this experience stand out was how interactive the lessons were. Each group incorporated quizzes that challenged us to apply <br>what we’d learned, reinforcing our understanding in real-time. Additionally, the homework assignments (often referred to as \"homework <br>hacks\") presented coding problems that allowed us to deepen our knowledge outside the classroom. Working through these assignments helped me <br>enhance my coding skills and solidify my understanding of the material.\n",
    "<br>\n",
    "<br>Overall, Sprint 2 was not only a rewarding learning experience but also a significant boost to my programming abilities. Teaching others <br>about conditionals while exploring the creative lesson formats my peers developed truly made the process enjoyable. The combination of <br>engaging lesson designs, hands-on coding tasks, and interactive quizzes made learning both challenging and fun."
   ]
  },
  {
   "cell_type": "markdown",
   "metadata": {},
   "source": [
    "<button onclick=\"window.open('https://github.com/luojonah/jonahluo_student2025/issues/8', '_blank')\">\n",
    "  Open GitHub Issue\n",
    "</button>\n"
   ]
  }
 ],
 "metadata": {
  "language_info": {
   "name": "python"
  }
 },
 "nbformat": 4,
 "nbformat_minor": 2
}
