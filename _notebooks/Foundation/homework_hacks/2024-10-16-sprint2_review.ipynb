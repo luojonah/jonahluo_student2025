{
 "cells": [
  {
   "cell_type": "raw",
   "metadata": {
    "vscode": {
     "languageId": "raw"
    }
   },
   "source": [
    "---\n",
    "layout: post\n",
    "title: Sprint 2 Review \n",
    "description: My experience with Sprint 2\n",
    "comments: true\n",
    "---"
   ]
  },
  {
   "cell_type": "markdown",
   "metadata": {},
   "source": [
    "# Sprint 2 Review"
   ]
  },
  {
   "cell_type": "markdown",
   "metadata": {},
   "source": [
    "## Blog – Organization and Preparation for CB and PBL\n",
    "Before Sprint 2, I had a very general understanding of programming. Throughout Sprint 2, I learned how to apply different functions and methods to solve problems. Through the research I had to do to create my own lesson as well as the homework hacks I had to complete for each lesson, I feel that I am a lot more prepared for the Collegeboard exam as I was able to practice different uses and applications of the big ideas taught in the lessons.\n",
    "\n",
    "## Memory – Highlight and Contribution\n",
    "My group taught the 3.6 and 3.7 big ideas on conditionals and nested conditionals. One of the most memorable moments of Sprint 2 was the fact that while our group was presenting, the screen kept turning off on it's own. We continued to present even with this minor inconvenience and it added humor to our presentation. The interactive quiz that I worked on was also a fun touch that not only reinforced the audience's learning, but also added to the interaction in our lesson. One memorable thing from other groups was their interactive questions that checked on my understanding as they went throughout their lesson.\n",
    "\n",
    "## Relevancy – Impactful Learning\n",
    "An impactful lesson I remember from this sprint was when the 3.3 group covered mathematical operations and functions. Through their unique approach of combining conditionals, nested conditionals (which we taught) and strings in order to create the fibonacci sequence, I was opened to the significant role that coding can play in mathematics. \n",
    "\n",
    "## Beyond Perfunctory – Personal Growth and Accomplishment\n",
    "One thing I found challenging throughout sprint 2 was the group work. I didn't have much coding experience to begin with and so having to incorporate my code with a group was pretty tough. I learned how to communicate better with my team and about pull requests. I feel that I am a lot more comfortable now working on projects that require pull requests and group work."
   ]
  },
  {
   "cell_type": "markdown",
   "metadata": {},
   "source": [
    "<button onclick=\"window.open('https://github.com/luojonah/jonahluo_student2025/issues/8', '_blank')\">\n",
    "  Open GitHub Issue\n",
    "</button>\n"
   ]
  },
  {
   "cell_type": "markdown",
   "metadata": {},
   "source": [
    "# Homework Hacks by Lesson"
   ]
  },
  {
   "cell_type": "markdown",
   "metadata": {
    "vscode": {
     "languageId": "html"
    }
   },
   "source": [
    "<div>\n",
    "    <table>\n",
    "        <tr>\n",
    "            <td><a href=\"{{site.baseurl}}/31/\">3.1</a></td>\n",
    "            <td><a href=\"{{site.baseurl}}/32/\">3.2</a></td>\n",
    "            <td><a href=\"{{site.baseurl}}/33/\">3.3</a></td>\n",
    "            <td><a href=\"{{site.baseurl}}/34/\">3.4</a></td>\n",
    "            <td><a href=\"{{site.baseurl}}/35/\">3.5</a></td>\n",
    "            <td><a href=\"{{site.baseurl}}/38/\">3.8</a></td>\n",
    "            <td><a href=\"{{site.baseurl}}/310/\">3.10</a></td>\n",
    "     </tr>\n",
    "    </table>\n",
    "    </div>"
   ]
  }
 ],
 "metadata": {
  "language_info": {
   "name": "python"
  }
 },
 "nbformat": 4,
 "nbformat_minor": 2
}
