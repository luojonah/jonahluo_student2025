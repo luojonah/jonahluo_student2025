{
 "cells": [
  {
   "cell_type": "raw",
   "metadata": {
    "vscode": {
     "languageId": "raw"
    }
   },
   "source": [
    "---\n",
    "layout: post\n",
    "title: 3.1 Homework \n",
    "description: Homework Hacks\n",
    "comments: true\n",
    "permalink: /31/\n",
    "---\n"
   ]
  },
  {
   "cell_type": "markdown",
   "metadata": {},
   "source": [
    "# Homework Hacks for 3.1\n"
   ]
  },
  {
   "cell_type": "markdown",
   "metadata": {},
   "source": [
    "# 3.1.2 Hack 1: Types of Variables\n",
    "Write a Python program that assigns a variable and changes its value type multiple times. Use the type() function to track and print the type of the variable after each reassignment."
   ]
  },
  {
   "cell_type": "code",
   "execution_count": 1,
   "metadata": {},
   "outputs": [
    {
     "name": "stdout",
     "output_type": "stream",
     "text": [
      "Value: 10, Type: <class 'int'>\n",
      "Value: 10.5, Type: <class 'float'>\n",
      "Value: 'Hello', Type: <class 'str'>\n",
      "Value: [1, 2, 3], Type: <class 'list'>\n",
      "Value: {'key': 'value'}, Type: <class 'dict'>\n",
      "Value: (10, 20), Type: <class 'tuple'>\n",
      "Value: True, Type: <class 'bool'>\n",
      "Value: None, Type: <class 'NoneType'>\n"
     ]
    }
   ],
   "source": [
    "# Initial assignment\n",
    "variable = 10\n",
    "print(f\"Value: {variable}, Type: {type(variable)}\")\n",
    "\n",
    "# Reassign as a float\n",
    "variable = 10.5\n",
    "print(f\"Value: {variable}, Type: {type(variable)}\")\n",
    "\n",
    "# Reassign as a string\n",
    "variable = \"Hello\"\n",
    "print(f\"Value: '{variable}', Type: {type(variable)}\")\n",
    "\n",
    "# Reassign as a list\n",
    "variable = [1, 2, 3]\n",
    "print(f\"Value: {variable}, Type: {type(variable)}\")\n",
    "\n",
    "# Reassign as a dictionary\n",
    "variable = {\"key\": \"value\"}\n",
    "print(f\"Value: {variable}, Type: {type(variable)}\")\n",
    "\n",
    "# Reassign as a tuple\n",
    "variable = (10, 20)\n",
    "print(f\"Value: {variable}, Type: {type(variable)}\")\n",
    "\n",
    "# Reassign as a boolean\n",
    "variable = True\n",
    "print(f\"Value: {variable}, Type: {type(variable)}\")\n",
    "\n",
    "# Reassign as None\n",
    "variable = None\n",
    "print(f\"Value: {variable}, Type: {type(variable)}\")\n"
   ]
  },
  {
   "cell_type": "markdown",
   "metadata": {},
   "source": [
    "# 3.1.4 Hack 1: Naming Variables for User Profile\n",
    "You need to create a user profile using appropriate variable names that reflect the data they hold. The profile includes the user’s full name, age, email, and account balance.\n",
    "\n",
    "Requirements:\n",
    "Use clear, descriptive variable names for full name, age, email, and account balance.\n",
    "Assign realistic values to each variable.\n",
    "Display the information using console.log() in a sentence like: \"John Doe, aged 30, can be contacted at johndoe@example.com and has a balance of $1500 in his account.\""
   ]
  },
  {
   "cell_type": "code",
   "execution_count": null,
   "metadata": {
    "vscode": {
     "languageId": "javascript"
    }
   },
   "outputs": [],
   "source": [
    "// User profile variables\n",
    "let fullName = \"John Doe\";\n",
    "let age = 30;\n",
    "let emailAddress = \"johndoe@example.com\";\n",
    "let accountBalance = 1500;\n",
    "\n",
    "// Display the information\n",
    "console.log(`${fullName}, aged ${age}, can be contacted at ${emailAddress} and has a balance of $${accountBalance} in his account.`);\n"
   ]
  }
 ],
 "metadata": {
  "kernelspec": {
   "display_name": "Python 3",
   "language": "python",
   "name": "python3"
  },
  "language_info": {
   "codemirror_mode": {
    "name": "ipython",
    "version": 3
   },
   "file_extension": ".py",
   "mimetype": "text/x-python",
   "name": "python",
   "nbconvert_exporter": "python",
   "pygments_lexer": "ipython3",
   "version": "3.10.12"
  }
 },
 "nbformat": 4,
 "nbformat_minor": 2
}
