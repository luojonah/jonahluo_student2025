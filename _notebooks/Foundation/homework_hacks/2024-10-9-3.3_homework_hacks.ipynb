{
 "cells": [
  {
   "cell_type": "raw",
   "metadata": {
    "vscode": {
     "languageId": "raw"
    }
   },
   "source": [
    "---\n",
    "layout: post\n",
    "title: 3.3 Homework \n",
    "description: Homework Hacks\n",
    "comments: true\n",
    "permalink: /33/\n",
    "---"
   ]
  },
  {
   "cell_type": "markdown",
   "metadata": {},
   "source": [
    "# Homework Hacks for 3.3"
   ]
  },
  {
   "cell_type": "markdown",
   "metadata": {},
   "source": [
    "# Hack 1 | Create these functions:\n",
    " Adds 2 parameters\n",
    "<br> Subtracts 2 parameters\n",
    "<br> Divides 2 parameters\n",
    "<br> Find the Modulus of 2 parameters\n",
    "<br> Raise parameter A to the power of parameter B"
   ]
  },
  {
   "cell_type": "code",
   "execution_count": null,
   "metadata": {},
   "outputs": [],
   "source": [
    "# Addition\n",
    "def add(a, b):\n",
    "    return a + b\n",
    "\n",
    "# Subtraction\n",
    "def subtract(a, b):\n",
    "    return a - b\n",
    "\n",
    "# Division\n",
    "def divide(a, b):\n",
    "    return a / b if b != 0 else \"Cannot divide by zero\"\n",
    "\n",
    "# Modulus of 2 Parameters\n",
    "def modulus(a, b):\n",
    "    return a % b\n",
    "\n",
    "# Exponent\n",
    "def power(a, b):\n",
    "    return a ** b"
   ]
  },
  {
   "cell_type": "markdown",
   "metadata": {},
   "source": [
    "# Hack 2 | Create a function that finds a point on a graph of f(x) = 5x + 2\n",
    "Think f(x) = mx + b or y = mx + b.\n",
    "<br> Your parameter should be the x value, and your output (return value) should be the y value."
   ]
  },
  {
   "cell_type": "code",
   "execution_count": null,
   "metadata": {},
   "outputs": [],
   "source": [
    "def find_point(x):\n",
    "    return 5 * x + 2"
   ]
  }
 ],
 "metadata": {
  "language_info": {
   "name": "python"
  }
 },
 "nbformat": 4,
 "nbformat_minor": 2
}
