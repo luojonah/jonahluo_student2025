{
 "cells": [
  {
   "cell_type": "raw",
   "metadata": {
    "vscode": {
     "languageId": "raw"
    }
   },
   "source": [
    "---\n",
    "layout: post\n",
    "title: 3.5 Homework \n",
    "description: Homework Hacks\n",
    "comments: true\n",
    "---"
   ]
  },
  {
   "cell_type": "markdown",
   "metadata": {},
   "source": [
    "# Homework Hacks for 3.5"
   ]
  },
  {
   "cell_type": "markdown",
   "metadata": {},
   "source": [
    "# Hack 1 \n",
    "Create a function that determines if you should go outside.\n",
    "<br> The function will take in 2 parameters, the temperature and isRaining.\n",
    "<br> If the temperature is below 100 degrees and isRaining is true, then the function should return true.\n",
    "<br> If the temperature is above 32 degrees and isRaining is false, then the function should return true.\n",
    "<br> Otherwise, the function should return false."
   ]
  },
  {
   "cell_type": "code",
   "execution_count": null,
   "metadata": {},
   "outputs": [],
   "source": [
    "# Python Function\n",
    "def should_go_outside(temperature, isRaining):\n",
    "    if temperature < 100 and isRaining:\n",
    "        return True\n",
    "    elif temperature > 32 and not isRaining:\n",
    "        return True\n",
    "    else:\n",
    "        return False\n",
    "\n",
    "#Function Tests\n",
    "print(should_go_outside(75, True))   # Output: True, because it's below 100 and raining\n",
    "print(should_go_outside(85, False))  # Output: True, because it's above 32 and not raining\n",
    "print(should_go_outside(101, True))  # Output: False, because the temperature is above 100\n",
    "print(should_go_outside(20, False))  # Output: False, because it's below 32 and not raining"
   ]
  },
  {
   "cell_type": "code",
   "execution_count": null,
   "metadata": {
    "vscode": {
     "languageId": "javascript"
    }
   },
   "outputs": [],
   "source": [
    "//Javascript Function\n",
    "function shouldGoOutside(temperature, isRaining) {\n",
    "    if (temperature < 100 && isRaining) {\n",
    "        return true;\n",
    "    } else if (temperature > 32 && !isRaining) {\n",
    "        return true;\n",
    "    } else {\n",
    "        return false;\n",
    "    }\n",
    "}\n",
    "\n",
    "//Function Tests\n",
    "console.log(shouldGoOutside(75, true));   // Output: true, because it's below 100 and raining\n",
    "console.log(shouldGoOutside(85, false));  // Output: true, because it's above 32 and not raining\n",
    "console.log(shouldGoOutside(101, true));  // Output: false, because the temperature is above 100\n",
    "console.log(shouldGoOutside(20, false));  // Output: false, because it's below 32 and not raining"
   ]
  },
  {
   "cell_type": "markdown",
   "metadata": {},
   "source": [
    "# Hack 2\n",
    "Use De Morgan’s Law to create an expression that simplifies the following expressions: \n",
    "<br>\n",
    "<br> ```javascript // Expression 1 let stayInside = !(isRaining && isCold) // Expression 2 let stayInside = !(isRaining || isCold) ```\n",
    "\n",
    "<br> Remember that De Morgan’s Law states that the complement of the union of two sets A and B is equal to the intersection of the complement of the sets A and B.\n",
    "<br> Or more simply: !(A || B) === !A && !B and !(A && B) === !A || !B"
   ]
  },
  {
   "cell_type": "code",
   "execution_count": null,
   "metadata": {
    "vscode": {
     "languageId": "javascript"
    }
   },
   "outputs": [],
   "source": [
    "// Expression 1\n",
    "let stayInside = !isRaining || !isCold;\n",
    "\n",
    "// Expression 2\n",
    "let stayInside = !isRaining && !isCold;"
   ]
  }
 ],
 "metadata": {
  "language_info": {
   "name": "python"
  }
 },
 "nbformat": 4,
 "nbformat_minor": 2
}
