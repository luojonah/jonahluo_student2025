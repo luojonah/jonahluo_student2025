{
 "cells": [
  {
   "cell_type": "raw",
   "id": "606f0860",
   "metadata": {
    "vscode": {
     "languageId": "raw"
    }
   },
   "source": [
    "---\n",
    "layout: post\n",
    "title: Cyber Security CEO Panel Blog  \n",
    "comments: true\n",
    "---"
   ]
  },
  {
   "cell_type": "markdown",
   "id": "f59b7f4f",
   "metadata": {},
   "source": [
    "# Cyber Panel Reflection  \n",
    "\n",
    "## 🔐 Key Cybersecurity Topics\n",
    "\n",
    "### **Phishing & Zero-Day Attacks**\n",
    "- **Zero-Day Exploits**: Vulnerabilities with no available patch.\n",
    "- **Example**: If Microsoft failed to verify cloud update sources, attackers could push malware to all devices.\n",
    "\n",
    "### **Ethical Hacking**\n",
    "- Ethical hackers help identify system vulnerabilities.\n",
    "- Some create backdoors — generally considered poor practice.\n",
    "\n",
    "### **Cybersecurity Is Learnable**\n",
    "- Curiosity and persistence are more important than raw talent.\n",
    "- While challenging, cybersecurity is a highly rewarding field.\n",
    "\n",
    "### **Pathways Into Cybersecurity**\n",
    "- Begin with **IT fundamentals**.\n",
    "- **People skills** matter: leadership, trust, reliability.\n",
    "- **Build your own network** — understand, configure, and hack it.\n",
    "- **Join hackathons**, connect with mentors, and seek internships.\n",
    "\n",
    "### **The Human Side of Cybersecurity**\n",
    "- Cybersecurity is as much about **people** as it is about **tech**.\n",
    "- It often involves **tough ethical decisions** in adversarial environments.\n",
    "- Working with others is a core part of what makes it fulfilling.\n",
    "\n",
    "### **Global Threat Landscape**\n",
    "- Major threats come from **nation-states** like China and Russia.\n",
    "- The U.S. is actively investing in cyber defense to counter them.\n",
    "\n",
    "### **The Future of Cybersecurity**\n",
    "- Within 5–10 years, cybersecurity will be a top priority for all major companies.\n",
    "- Many developers lack secure coding knowledge — **big skill gap** to fill.\n",
    "\n",
    "### **Certifications**\n",
    "- **CC Certification** is a good starting point — affordable, low-pressure, and informative.\n",
    "\n",
    "### **Teamwork**\n",
    "- Collaboration is essential in cyber roles.\n",
    "- Learn to work with **difficult personalities** — including poor leadership.\n",
    "\n",
    "---\n",
    "\n",
    "## 📌 Key Takeaways\n",
    "\n",
    "- Cybersecurity is **accessible** to anyone with curiosity and persistence.\n",
    "- **Soft skills** like communication and leadership can be more valuable long-term than technical skills alone.\n",
    "- Cybersecurity is about **managing risk** — technically and interpersonally.\n",
    "- The global shift toward cybersecurity creates **growing opportunities**.\n",
    "- There are many entry points: **certifications, networking, hackathons, and projects**.\n",
    "\n",
    "---\n",
    "\n",
    "## 💻 Application to CSP \n",
    "\n",
    "- Be more intentional about **writing secure code** — avoid leaving vulnerabilities.\n",
    "- Develop the habit of **thinking like an attacker** — test your code for weak points.\n",
    "- Focus on **project collaboration** — improve leadership and teamwork.\n",
    "- Start building **mini-networked systems** (e.g., server projects) to learn infrastructure and security fundamentals.\n",
    "\n",
    "---\n",
    "\n",
    "## 🌐 Application to Real Life (Internships, Jobs, Career)\n",
    "\n",
    "- Begin learning **IT fundamentals** as a base for future cybersecurity roles.\n",
    "- Explore certifications like **CC** for early exposure.\n",
    "- **Network** actively — build connections, find mentors.\n",
    "- Apply a **cybersecurity mindset** to all technical work — secure code, adversarial thinking.\n",
    "- Stay informed about **global threats** — especially nation-state actors.\n",
    "- Prepare to work in **team environments** — develop patience and management skills.\n",
    "\n",
    "---\n",
    "\n",
    "## 🎯 Impact on My View of Cybersecurity & Future Goals\n",
    "\n",
    "- Cybersecurity feels **more accessible and human-centered** than expected.\n",
    "- Inspired to build both **technical and soft skills** equally.\n",
    "- Motivated to pursue a path that blends **software development and security**.\n",
    "- Interested in **secure coding** and **infrastructure protection**.\n",
    "- Hope to contribute to **securing vulnerable systems** and **educating others**.\n",
    "- Excited to participate in **hackathons** and explore **internships** in cybersecurity.\n"
   ]
  },
  {
   "cell_type": "markdown",
   "id": "8afb9d23",
   "metadata": {},
   "source": [
    "---\n",
    "\n",
    "<img src=\"{{ site.baseurl }}/images/panel_pic.jpg\">"
   ]
  }
 ],
 "metadata": {
  "language_info": {
   "name": "python"
  }
 },
 "nbformat": 4,
 "nbformat_minor": 5
}
