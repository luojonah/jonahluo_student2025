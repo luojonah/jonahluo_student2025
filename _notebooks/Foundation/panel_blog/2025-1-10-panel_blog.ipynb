{
 "cells": [
  {
   "cell_type": "raw",
   "metadata": {
    "vscode": {
     "languageId": "raw"
    }
   },
   "source": [
    "---\n",
    "layout: post\n",
    "title: Girls in CS Panel Blog \n",
    "description: Notes, Takeaways, and Selfie!\n",
    "comments: true\n",
    "---"
   ]
  },
  {
   "cell_type": "markdown",
   "metadata": {},
   "source": [
    "### Notes"
   ]
  },
  {
   "cell_type": "markdown",
   "metadata": {},
   "source": [
    "- the important part isn't the working final product, it's the process of creating the final product and learning along the way\n",
    "- communication/collaboration and being able to summarize what you're working on is a very important skill\n",
    "- live reviews set us up for real world communication/interviews --> being direct and to the point, clear and concise\n",
    "- agile methodology allows us to have better output\n",
    "- flowcharts are very efficient ways to communicate ideas\n",
    "- use case diagrams --> flowcharts and diagrams from the user's point of view\n",
    "- colleges like it when you combine technical skills and projects with social and ethical impacts\n",
    "- starting early, look into catalogs, look into like school specific programs and classes\n",
    "- recommended to take more community college classes to advance far once in college\n",
    "- making connections through technical skills\n",
    "- do what you're passionate at"
   ]
  },
  {
   "cell_type": "markdown",
   "metadata": {},
   "source": [
    "### Takeaways/Application"
   ]
  },
  {
   "cell_type": "markdown",
   "metadata": {},
   "source": [
    "- Focus on the Process, Not Just the Product: Emphasize learning and iterative improvement, as this fosters problem-solving and adaptability.\n",
    "- Communication & Collaboration: Being able to clearly and concisely communicate your work, especially in live reviews, is critical for professional success.\n",
    "- Technical Skills with Social/Ethical Impact: Combine technical expertise with a focus on social and ethical issues to stand out to colleges and employers."
   ]
  },
  {
   "cell_type": "markdown",
   "metadata": {},
   "source": [
    "![Panel Image](panel.jpg)\n",
    "\n",
    "\n"
   ]
  }
 ],
 "metadata": {
  "language_info": {
   "name": "python"
  }
 },
 "nbformat": 4,
 "nbformat_minor": 2
}
