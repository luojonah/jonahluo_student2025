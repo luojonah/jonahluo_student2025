{
 "cells": [
  {
   "cell_type": "raw",
   "metadata": {
    "vscode": {
     "languageId": "raw"
    }
   },
   "source": [
    "---\n",
    "layout: post\n",
    "title: Digital Divide Lesson Assignment  \n",
    "comments: true\n",
    "---"
   ]
  },
  {
   "cell_type": "markdown",
   "metadata": {},
   "source": [
    "## Code Snippets\n",
    "\n",
    "**Code Snippet # 1**:\n",
    "![post]({{site.baseurl}}/images/quiz1.png)\n",
    "\n",
    "**Code Snippet # 2**:\n",
    "![post]({{site.baseurl}}/images/quiz2.png)\n",
    "\n",
    "<hr>\n"
   ]
  },
  {
   "cell_type": "markdown",
   "metadata": {},
   "source": [
    "## Essay Practice Problems\n",
    "\n",
    "1. Describe three dimensions of the digital divide and explain how each affects access to educational resources. Provide specific examples.\n",
    "\n",
    "The digital divide encompasses access to technology, digital literacy, and affordability. Access to technology refers to having the physical devices, like computers or tablets, necessary to engage in online education. For instance, students in low-income areas may lack these devices, limiting their access to digital learning platforms. Digital literacy refers to the skills needed to navigate technology, and without proper training, even students with access to devices may struggle with online resources, such as navigating learning management systems or conducting online research. Lastly, affordability can create barriers where internet access is expensive, preventing families from participating in online education, especially in remote or underserved areas.\n",
    "\n",
    "2. Compare and contrast the digital divide challenges faced in urban versus rural communities. What solutions might be effective in each context?\n",
    "\n",
    "Urban communities often face issues related to digital literacy and affordability, with residents having better access to infrastructure but struggling with the costs of internet and devices. For example, some urban schools may provide technology, but students' families may not afford high-speed internet. On the other hand, rural communities face more significant challenges related to access to technology and internet infrastructure, as rural areas may have limited or no broadband options. Solutions for urban areas could include subsidized internet and device programs, while rural areas may benefit from government investment in broadband infrastructure to ensure equal access to educational resources."
   ]
  }
 ],
 "metadata": {
  "language_info": {
   "name": "python"
  }
 },
 "nbformat": 4,
 "nbformat_minor": 2
}
