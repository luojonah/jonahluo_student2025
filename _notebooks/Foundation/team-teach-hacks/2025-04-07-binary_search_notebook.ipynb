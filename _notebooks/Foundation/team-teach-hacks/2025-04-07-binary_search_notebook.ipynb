{
 "cells": [
  {
   "cell_type": "raw",
   "id": "9e4e023e",
   "metadata": {
    "vscode": {
     "languageId": "raw"
    }
   },
   "source": [
    "---\n",
    "layout: post\n",
    "title: Binary Search Lesson Assignment  \n",
    "permalink: /binary_search\n",
    "comments: true\n",
    "---"
   ]
  },
  {
   "cell_type": "markdown",
   "id": "0515cf7e",
   "metadata": {},
   "source": [
    "**Homework Hack #1**"
   ]
  },
  {
   "cell_type": "code",
   "execution_count": null,
   "id": "2fa34fdc",
   "metadata": {},
   "outputs": [],
   "source": [
    "def search_rotated_array(arr, target):\n",
    "    left, right = 0, len(arr) - 1\n",
    "    \n",
    "    while left <= right:\n",
    "        mid = (left + right) // 2\n",
    "        \n",
    "        if arr[mid] == target:\n",
    "            return mid\n",
    "        \n",
    "        # Check which half is sorted\n",
    "        if arr[left] <= arr[mid]:  # Left half is sorted\n",
    "            if arr[left] <= target < arr[mid]:\n",
    "                right = mid - 1\n",
    "            else:\n",
    "                left = mid + 1\n",
    "        else:  # Right half is sorted\n",
    "            if arr[mid] < target <= arr[right]:\n",
    "                left = mid + 1\n",
    "            else:\n",
    "                right = mid - 1\n",
    "    \n",
    "    return -1\n"
   ]
  },
  {
   "cell_type": "markdown",
   "id": "d4b1401a",
   "metadata": {},
   "source": [
    "<hr>\n",
    "\n",
    "**Homework Hack #2**\n"
   ]
  },
  {
   "cell_type": "code",
   "execution_count": null,
   "id": "9d51b64b",
   "metadata": {},
   "outputs": [],
   "source": [
    "def find_first_last(arr, target):\n",
    "    def binary_search(is_first):\n",
    "        left, right = 0, len(arr) - 1\n",
    "        result = -1\n",
    "        while left <= right:\n",
    "            mid = (left + right) // 2\n",
    "            if arr[mid] == target:\n",
    "                result = mid\n",
    "                if is_first:\n",
    "                    right = mid - 1\n",
    "                else:\n",
    "                    left = mid + 1\n",
    "            elif arr[mid] < target:\n",
    "                left = mid + 1\n",
    "            else:\n",
    "                right = mid - 1\n",
    "        return result\n",
    "\n",
    "    first = binary_search(True)\n",
    "    last = binary_search(False)\n",
    "    return (first, last) if first != -1 else -1\n"
   ]
  },
  {
   "cell_type": "markdown",
   "id": "19d6720e",
   "metadata": {},
   "source": [
    "<hr>\n",
    "\n",
    "**Homework Hack #3**"
   ]
  },
  {
   "cell_type": "code",
   "execution_count": null,
   "id": "3cb3db14",
   "metadata": {},
   "outputs": [],
   "source": [
    "def smallest_ge_target(arr, target):\n",
    "    left, right = 0, len(arr) - 1\n",
    "    result = -1\n",
    "    \n",
    "    while left <= right:\n",
    "        mid = (left + right) // 2\n",
    "        if arr[mid] >= target:\n",
    "            result = arr[mid]\n",
    "            right = mid - 1\n",
    "        else:\n",
    "            left = mid + 1\n",
    "    \n",
    "    return result if result != -1 else -1\n"
   ]
  }
 ],
 "metadata": {
  "language_info": {
   "name": "python"
  }
 },
 "nbformat": 4,
 "nbformat_minor": 5
}
