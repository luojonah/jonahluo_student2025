{
 "cells": [
  {
   "cell_type": "raw",
   "id": "a04ab960",
   "metadata": {
    "vscode": {
     "languageId": "raw"
    }
   },
   "source": [
    "---\n",
    "layout: post\n",
    "title: Lists & Filtering Systems Homework  \n",
    "comments: true\n",
    "---"
   ]
  },
  {
   "cell_type": "markdown",
   "id": "abd087bc",
   "metadata": {},
   "source": [
    "## Popcorn Hacks"
   ]
  },
  {
   "cell_type": "code",
   "execution_count": null,
   "id": "7a01c9d3",
   "metadata": {},
   "outputs": [],
   "source": [
    "### PopCorn Hack 1: Find Students with Scores in a Range\n",
    "# Complete the function to find all students with scores between min_score and max_score\n",
    "def find_students_in_range(df, min_score, max_score):\n",
    "    return df[(df['Score'] >= min_score) & (df['Score'] <= max_score)]\n",
    "\n",
    "# Test with:\n",
    "# find_students_in_range(student_data, 80, 90)"
   ]
  },
  {
   "cell_type": "code",
   "execution_count": 2,
   "id": "94e9ae2f",
   "metadata": {},
   "outputs": [],
   "source": [
    "### PopCorn Hack 2: Calculate Letter Grades\n",
    "# Complete the function to add a 'Letter' column based on numerical scores\n",
    "def add_letter_grades(df):\n",
    "    def get_letter(score):\n",
    "        if score >= 90:\n",
    "            return 'A'\n",
    "        elif score >= 80:\n",
    "            return 'B'\n",
    "        elif score >= 70:\n",
    "            return 'C'\n",
    "        elif score >= 60:\n",
    "            return 'D'\n",
    "        else:\n",
    "            return 'F'\n",
    "    df['Letter'] = df['Score'].apply(get_letter)\n",
    "    return df\n",
    "\n",
    "# Test with:\n",
    "# add_letter_grades(student_data)"
   ]
  },
  {
   "cell_type": "code",
   "execution_count": null,
   "id": "db943cb7",
   "metadata": {},
   "outputs": [],
   "source": [
    "### PopCorn Hack 3: Find the Mode in a Series\n",
    "# Complete the function to find the most common value in a series\n",
    "def find_mode(series):\n",
    "    return series.mode().iloc[0]\n",
    "\n",
    "# Test with:\n",
    "# find_mode(pd.Series([1, 2, 2, 3, 4, 2, 5]))\n"
   ]
  },
  {
   "cell_type": "markdown",
   "id": "d991cf12",
   "metadata": {},
   "source": [
    "---\n",
    "\n",
    "## Homework Hacks"
   ]
  },
  {
   "cell_type": "code",
   "execution_count": null,
   "id": "9803e471",
   "metadata": {},
   "outputs": [],
   "source": [
    "# 🔥 Fire Incident Data Analysis - Full Implementation\n",
    "\n",
    "import pandas as pd\n",
    "import seaborn as sns\n",
    "import matplotlib.pyplot as plt\n",
    "import sqlite3\n",
    "\n",
    "# Load the dataset\n",
    "datas = pd.read_csv('fire_data.csv')  # Replace with your actual file\n",
    "\n",
    "# 1. Find incidents with highest and lowest average temperature\n",
    "highest_temp = datas[datas['Temperature'] == datas['Temperature'].max()]\n",
    "lowest_temp = datas[datas['Temperature'] == datas['Temperature'].min()]\n",
    "print(\"Highest Temperature Incident(s):\")\n",
    "print(highest_temp)\n",
    "print(\"\\nLowest Temperature Incident(s):\")\n",
    "print(lowest_temp)\n",
    "\n",
    "# 2. Calculate temperature difference (Max - Min) for each fire incident\n",
    "datas['Temp_Difference'] = datas['Max_Temperature'] - datas['Min_Temperature']\n",
    "print(\"\\nTemperature Difference Added:\")\n",
    "print(datas[['Incident_ID', 'Temp_Difference']].head())\n",
    "\n",
    "# 3. Identify fire incidents with temperature above overall average\n",
    "avg_temp = datas['Temperature'].mean()\n",
    "above_avg = datas[datas['Temperature'] > avg_temp]\n",
    "print(f\"\\nAverage Temperature: {avg_temp:.2f}\")\n",
    "print(\"Incidents above average temperature:\")\n",
    "print(above_avg.head())\n",
    "\n",
    "# 4. Group by vegetation type and weather condition and calculate averages\n",
    "grouped = datas.groupby(['Vegetation_Type', 'Weather_Condition']).agg({\n",
    "    'Temperature': 'mean',\n",
    "    'Wind_Speed': 'mean'\n",
    "}).reset_index()\n",
    "print(\"\\nGrouped by Vegetation Type and Weather Condition (Avg Temp & Wind):\")\n",
    "print(grouped.head())\n",
    "\n",
    "# 5. Correlation between vegetation type and fire intensity\n",
    "datas['Vegetation_Code'] = datas['Vegetation_Type'].astype('category').cat.codes\n",
    "correlation = datas[['Vegetation_Code', 'Fire_Intensity']].corr()\n",
    "print(\"\\nCorrelation between vegetation type and fire intensity:\")\n",
    "print(correlation)\n",
    "sns.scatterplot(x='Vegetation_Code', y='Fire_Intensity', data=datas)\n",
    "plt.title('Vegetation Type vs Fire Intensity')\n",
    "plt.xlabel('Vegetation Type (Encoded)')\n",
    "plt.ylabel('Fire Intensity')\n",
    "plt.show()\n",
    "\n",
    "# 6. Weather condition with highest average fire intensity\n",
    "weather_avg_intensity = datas.groupby('Weather_Condition')['Fire_Intensity'].mean()\n",
    "max_weather_condition = weather_avg_intensity.idxmax()\n",
    "max_intensity = weather_avg_intensity.max()\n",
    "print(f\"\\nWeather condition with highest avg fire intensity: {max_weather_condition} ({max_intensity:.2f})\")\n",
    "\n",
    "# 7. Percentage of incidents with temperature > 100°F\n",
    "above_100 = datas[datas['Temperature'] > 100]\n",
    "percentage = (len(above_100) / len(datas)) * 100\n",
    "print(f\"\\nPercentage of fire incidents with temperature > 100°F: {percentage:.2f}%\")\n",
    "\n",
    "# 8. Save to SQLite database\n",
    "conn = sqlite3.connect('fire_incidents.db')\n",
    "datas.to_sql('fire_incidents', conn, if_exists='replace', index=False)\n",
    "\n",
    "# 9. Run SQL queries using Pandas\n",
    "query1 = \"\"\"\n",
    "SELECT Vegetation_Type, AVG(Temperature) as Avg_Temp, AVG(Wind_Speed) as Avg_Wind\n",
    "FROM fire_incidents\n",
    "GROUP BY Vegetation_Type;\n",
    "\"\"\"\n",
    "print(\"\\nSQL: Avg Temperature and Wind Speed per Vegetation Type\")\n",
    "print(pd.read_sql_query(query1, conn).head())\n",
    "\n",
    "query2 = \"\"\"\n",
    "SELECT * FROM fire_incidents\n",
    "WHERE Temperature > 120 AND Wind_Speed > 15;\n",
    "\"\"\"\n",
    "print(\"\\nSQL: Incidents with Temperature > 120°F and Wind Speed > 15 mph\")\n",
    "print(pd.read_sql_query(query2, conn).head())\n",
    "\n",
    "query3 = \"\"\"\n",
    "SELECT Weather_Condition, AVG(Fire_Intensity) as Avg_Intensity\n",
    "FROM fire_incidents\n",
    "GROUP BY Weather_Condition;\n",
    "\"\"\"\n",
    "print(\"\\nSQL: Avg Fire Intensity per Weather Condition\")\n",
    "print(pd.read_sql_query(query3, conn).head())\n",
    "\n",
    "# 10. SQL vs Pandas Comparison\n",
    "print(\"\\nComparison:\")\n",
    "print(\"SQL is great for relational queries, data filtering, and aggregation.\")\n",
    "print(\"Pandas excels at flexible manipulation, visualization, and integration with Python.\")\n"
   ]
  }
 ],
 "metadata": {
  "kernelspec": {
   "display_name": "venv",
   "language": "python",
   "name": "python3"
  },
  "language_info": {
   "codemirror_mode": {
    "name": "ipython",
    "version": 3
   },
   "file_extension": ".py",
   "mimetype": "text/x-python",
   "name": "python",
   "nbconvert_exporter": "python",
   "pygments_lexer": "ipython3",
   "version": "3.13.2"
  }
 },
 "nbformat": 4,
 "nbformat_minor": 5
}
