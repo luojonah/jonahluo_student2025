{
 "cells": [
  {
   "cell_type": "raw",
   "id": "9d55273e",
   "metadata": {
    "vscode": {
     "languageId": "raw"
    }
   },
   "source": [
    "---\n",
    "layout: post\n",
    "title: Big O Homework  \n",
    "permalink: /big_o\n",
    "comments: true\n",
    "---"
   ]
  },
  {
   "cell_type": "code",
   "execution_count": null,
   "id": "bf5b85cf",
   "metadata": {},
   "outputs": [],
   "source": [
    "# O(1) - Constant Time Complexity\n",
    "def get_first_element(arr):\n",
    "  \"\"\"Returns the first element of a list.\"\"\"\n",
    "  if arr:\n",
    "    return arr[0]\n",
    "  return None\n",
    "\n",
    "# Example usage\n",
    "my_list_o1 = [1, 2, 3, 4, 5]\n",
    "first_element = get_first_element(my_list_o1)\n",
    "print(f\"First element: {first_element}\")\n",
    "\n",
    "# O(log n) - Logarithmic Time Complexity (Binary Search)\n",
    "def binary_search(arr, target):\n",
    "  \"\"\"Searches for a target value in a sorted list using binary search.\"\"\"\n",
    "  left, right = 0, len(arr) - 1\n",
    "  while left <= right:\n",
    "    mid = (left + right) // 2\n",
    "    if arr[mid] == target:\n",
    "      return mid\n",
    "    elif arr[mid] < target:\n",
    "      left = mid + 1\n",
    "    else:\n",
    "      right = mid - 1\n",
    "  return -1\n",
    "\n",
    "# Example usage\n",
    "sorted_list_logn = [2, 5, 8, 12, 16, 23, 38, 56, 72, 91]\n",
    "index = binary_search(sorted_list_logn, 23)\n",
    "print(f\"Index of 23: {index}\")\n",
    "\n",
    "# O(n) - Linear Time Complexity\n",
    "def find_maximum(arr):\n",
    "  \"\"\"Finds the maximum value in a list.\"\"\"\n",
    "  if not arr:\n",
    "    return None\n",
    "  maximum = arr[0]\n",
    "  for num in arr:\n",
    "    if num > maximum:\n",
    "      maximum = num\n",
    "  return maximum\n",
    "\n",
    "# Example usage\n",
    "my_list_on = [3, 1, 4, 1, 5, 9, 2, 6]\n",
    "max_value = find_maximum(my_list_on)\n",
    "print(f\"Maximum value: {max_value}\")\n",
    "\n",
    "# O(n²) - Quadratic Time Complexity\n",
    "def find_duplicates(arr):\n",
    "  \"\"\"Finds duplicate elements in a list.\"\"\"\n",
    "  duplicates = []\n",
    "  n = len(arr)\n",
    "  for i in range(n):\n",
    "    for j in range(i + 1, n):\n",
    "      if arr[i] == arr[j] and arr[i] not in duplicates:\n",
    "        duplicates.append(arr[i])\n",
    "  return duplicates\n",
    "\n",
    "# Example usage\n",
    "my_list_on2 = [1, 2, 3, 2, 4, 5, 1, 6]\n",
    "duplicate_elements = find_duplicates(my_list_on2)\n",
    "print(f\"Duplicate elements: {duplicate_elements}\")"
   ]
  }
 ],
 "metadata": {
  "language_info": {
   "name": "python"
  }
 },
 "nbformat": 4,
 "nbformat_minor": 5
}
