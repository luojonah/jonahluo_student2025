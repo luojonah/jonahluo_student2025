{
 "cells": [
  {
   "cell_type": "raw",
   "id": "d826bffb",
   "metadata": {
    "vscode": {
     "languageId": "raw"
    }
   },
   "source": [
    "---\n",
    "layout: post\n",
    "title: Heuristics and Undecidable Problems Homework  \n",
    "comments: true\n",
    "---"
   ]
  },
  {
   "cell_type": "markdown",
   "id": "0ca5e4d3",
   "metadata": {},
   "source": [
    "**1. Research and write a brief explanation of another undecidable problem not discussed in class**\n",
    "\n",
    "The Post Correspondence Problem is an undecidable decision problem in computer science. It involves two lists of strings, and the task is to find a sequence of indices such that the concatenation of strings from both lists, using that sequence, results in the same string. For example, using list A and list B, we seek indices where aᵢ₁aᵢ₂... = bᵢ₁bᵢ₂.... Despite its simplicity, there is no general algorithm that can determine whether a solution exists for every possible input, making it undecidable.\n",
    "\n",
    "<hr>\n",
    "\n",
    "**2. Implement the Nearest Neighbor algorithm for the TSP in a programming language of your choice**\n",
    "\n",
    "The Nearest Neighbor algorithm is a simple heuristic for solving the Traveling Salesman Problem. It starts at a random city, then repeatedly visits the nearest unvisited city until all cities are visited, finally returning to the starting point. Here's a basic Python implementation:\n",
    "\n",
    "```python\n",
    "import numpy as np\n",
    "\n",
    "def nearest_neighbor_tsp(distance_matrix, start=0):\n",
    "    n = len(distance_matrix)\n",
    "    visited = [False] * n\n",
    "    path = [start]\n",
    "    total_distance = 0\n",
    "    current = start\n",
    "    visited[start] = True\n",
    "\n",
    "    for _ in range(n - 1):\n",
    "        next_city = np.argmin([distance_matrix[current][j] if not visited[j] else float('inf') for j in range(n)])\n",
    "        total_distance += distance_matrix[current][next_city]\n",
    "        path.append(next_city)\n",
    "        visited[next_city] = True\n",
    "        current = next_city\n",
    "\n",
    "    total_distance += distance_matrix[current][start]  # Return to start\n",
    "    path.append(start)\n",
    "    return path, total_distance\n",
    "\n",
    "```\n",
    "\n",
    "<hr>\n",
    "\n",
    "**3. Find a real-world example where heuristics are used and explain why an exact solution isn’t practical**\n",
    "\n",
    "GPS navigation systems often use heuristics, like the A* algorithm, to find the fastest or shortest path through a road network. Computing the exact shortest path can be extremely time-consuming, especially in large cities with many intersections and traffic data. Heuristics help estimate the best route quickly by considering both distance and real-time conditions like congestion. An exact solution would be impractical in real-time applications where speed and responsiveness are critical.\n",
    "\n",
    "<hr>\n",
    "\n",
    "**Kahoot Screenshot**\n",
    "\n",
    "![Image](https://github.com/user-attachments/assets/309c6be2-2c0a-437b-a452-f8a0db43d812)"
   ]
  }
 ],
 "metadata": {
  "language_info": {
   "name": "python"
  }
 },
 "nbformat": 4,
 "nbformat_minor": 5
}
