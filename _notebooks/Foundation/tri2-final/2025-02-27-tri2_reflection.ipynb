{
 "cells": [
  {
   "cell_type": "raw",
   "metadata": {
    "vscode": {
     "languageId": "raw"
    }
   },
   "source": [
    "---\n",
    "layout: post\n",
    "title: Tri 2 Summary \n",
    "description: Feature Overview + 12 Week Review\n",
    "comments: true\n",
    "---"
   ]
  },
  {
   "cell_type": "markdown",
   "metadata": {},
   "source": [
    "## **Create Club Feature – AP Computer Science Principles CPT & FRQ Alignment**  \n",
    "\n",
    "#### **Feature Overview**  \n",
    "My individual feature for our **Club Hub** website was the **Create Club** functionality, which serves as the **core component** of our program. Without this feature, dependent functionalities across the system would fail, demonstrating the importance of modular program design and **abstraction**.  \n",
    "\n",
    "#### **User Interaction & Data Management**  \n",
    "- Users can **submit a form** to create new clubs, with club data stored in dynamically generated **club objects**.  \n",
    "- Club data is displayed in **club cards**, structured using **pagination** to enhance usability and **improve algorithmic efficiency** in data retrieval and display. Each page contains exactly **three club cards**, preventing excessive scrolling and improving **data accessibility**.  \n",
    "- Users can **update and delete** clubs, but **only for clubs they created**. This implements a form of **data encapsulation and access control**, preventing unauthorized modifications and ensuring **data integrity**.  \n",
    "\n",
    "#### **Integration with Other Features**  \n",
    "- **Interest-based club recommendations**: User input is matched with **club attributes** through **data filtering** to provide **personalized recommendations**.  \n",
    "- **Event creation integration**: Club leaders can generate events in the **Event feature**, which fetches club-related data such as **name, description, and creator** from the **clubs database**, demonstrating **data abstraction and interoperability**.  \n",
    "- **Leadership application system**: Leadership forms are dynamically **linked to existing clubs**, ensuring data validity by fetching verified club records from the **centralized database**.  \n",
    "\n",
    "By following **principles of data abstraction, modularity, and security**, my **Create Club** feature ensures a seamless, user-friendly experience while maintaining data integrity and proper access control across the Club Hub platform.  \n"
   ]
  },
  {
   "cell_type": "markdown",
   "metadata": {},
   "source": [
    "## **5 Significant Accomplishments**\n",
    "\n",
    "1. **Assistant Scrum Role**: \n",
    "- **Organized** my trio as Assistant Scrum Master, ensuring task alignment and seamless feature integration.  \n",
    "- **Led blueprinting sessions** on Discord, mapping feature connections, website design, and backend architecture.  \n",
    "- **Implemented CRUD functionality** first in the group, using my experience to assist teammates with backend API and Model files.  \n",
    "\n",
    "\n",
    "2. **Deployment Process**: \n",
    "- **Attended tech talks** by Mr. Mort, carefully noting the deployment setup and process.  \n",
    "- **Documented key steps** in our team's deployment blog for future reference and testing.  \n",
    "- **Filled in absent teammates**, explaining missed content via Discord calls.  \n",
    "- **Supported backend engineer and deployment admin**, assisting with backend tables and deployment syntax.  \n",
    "\n",
    "\n",
    "3. **Init, Backup & Restore Functions (on localhost)**: \n",
    "- **Explored the backend**, analyzing how restore, backup, and init functions operated.  \n",
    "- **Mapped function definitions and calls**, gaining a clear understanding of their implementation.  \n",
    "- **Integrated individual and teammate features**, enabling initialization, backup, and data restoration.  \n",
    "\n",
    "\n",
    "4. **Backend Create Club API & Model**: \n",
    "- **Developed functional API and Model files**, retrieving input data from Postman and the frontend.  \n",
    "- **Integrated backend schema**, ensuring proper modeling and definition in the corresponding Model file.  \n",
    "- **Refactored syntax over time**, correcting errors from initially copied code to align with class standards.  \n",
    "- **Resolved frontend fetch issues**, transitioning from localhost URLs to `pythonURI` based on Mort’s code.  \n",
    "\n",
    "\n",
    "5. **Frontend Create Club UX Design**: \n",
    "- **Evolved UX design**, making improvements throughout feature development and debugging.  \n",
    "- **Ensured consistent styling**, aligning my feature with the overall webpage design.  \n",
    "- **Implemented pagination**, replacing an endless stack of club cards with a structured, navigable layout.  \n",
    "- **Enhanced user experience**, making it easier for users to find specific clubs efficiently.  \n"
   ]
  },
  {
   "cell_type": "markdown",
   "metadata": {},
   "source": [
    "## **CPT Requirements**\n",
    "\n",
    "1. **Big Idea 1.1 & 1.2 Collaboration, Program Function, and Purpose**: Iteration, SCRUM, Agile, Issues, Kanban: Implement agile methodologies to   manage project tasks and progress. Use tools like Kanban boards to track issues and iterations. Our group made a kanban board to make burndown lists.\n",
    "\n",
    "2. **Big Idea 1.3 Program Design and Development**: Frontend and Backend Integration - I ensured that the frontend is user-friendly and visually appealing.\n",
    "\n",
    "3. **Big Idea 1.3 Program Design and Development**: Design Documentation: Use tools like draw.io, UML diagrams, and flowcharts to capture and document design. I used draw.io to make diagrams and flowcharts.\n",
    "\n",
    "4. **Big Idea 1.4 Debugging Code and Fixing Errors**: Backend Debugging: Testing: Build and execute tests using Postman. I used postman to test my feautre.\n",
    "\n",
    "5. **Big Idea 2 Data**: Database Management with SQLite: Set up and manage SQLite databases to store user data, posts, and images. Design database schemas to efficiently handle social media data.\n",
    "\n",
    "6. **Data Backup and Recovery**: Implement backup strategies to prevent data loss. Develop recovery procedures to restore data in case of failure.\n",
    "\n",
    "7. **Big Idea 4 Internet**: Implement authentication mechanisms (e.g., JWT) to secure the application.\n",
    "\n",
    "8. **HTTP and RESTful APIs**: Use HTTP methods (GET, POST, PUT, DELETE) to interact with the backend. Design and implement RESTful APIs for communication between frontend and backend."
   ]
  }
 ],
 "metadata": {
  "language_info": {
   "name": "python"
  }
 },
 "nbformat": 4,
 "nbformat_minor": 2
}
