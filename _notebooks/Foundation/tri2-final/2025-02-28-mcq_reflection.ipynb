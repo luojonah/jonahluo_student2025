{
 "cells": [
  {
   "cell_type": "raw",
   "metadata": {
    "vscode": {
     "languageId": "raw"
    }
   },
   "source": [
    "---\n",
    "layout: post\n",
    "title: Collegeboard MCQ Review\n",
    "description: Test Corrections & Reflection\n",
    "comments: true\n",
    "---"
   ]
  },
  {
   "cell_type": "markdown",
   "metadata": {},
   "source": [
    "### **MCQ Reflection**\n",
    "\n",
    "My multiple choice score didn't increase too much but I think that partially has to do with the fact that I think I did really good on my first multiple choice exam. As seen in the score distribution below, I struggled most with **Computing Systems & Networks** problems, specifically internet safety questions as well as variable and binary questions. Overrall, I think I was able to improve a lot from my previous exam, especially with the help of actually understanding vocabulary terms.\n",
    "\n",
    "- Score improved but still struggling with computing systems & networks (Topic 3).\n",
    "\n",
    "![post]({{site.baseurl}}/images/mcq1.png)\n",
    "\n",
    "![post]({{site.baseurl}}/images/mcq2.png)"
   ]
  },
  {
   "cell_type": "markdown",
   "metadata": {},
   "source": [
    "# Test Corrections\n",
    "\n",
    "**Topic:** 3.1\n",
    "\n",
    "## Question:\n",
    "Which method provides the most security when transmitting private data?\n",
    "\n",
    "### Your Answer (Incorrect):  \n",
    "**A. Certifying the data with a Creative Commons license before sending it**  \n",
    "- **Reason:** Creative Commons licenses govern content usage, not security.\n",
    "\n",
    "### Correct Answer:  \n",
    "**C. Sending the data using public-key encryption**  \n",
    "- **Reason:** Public-key encryption ensures secure data transmission by encrypting data so only the intended recipient can decrypt it.\n",
    "\n",
    "**Topic:** 3.1\n",
    "\n",
    "## Question:\n",
    "Which code segments correctly interchange the values of `alpha` and `beta` using the temporary variable `temp`?\n",
    "\n",
    "### Your Answer (Incorrect):  \n",
    "**A. I and II only**  \n",
    "- **Reason:** Segment II is incorrect because it does not properly preserve the original values before reassignment.\n",
    "\n",
    "### Correct Answer:  \n",
    "**C. II and III only**  \n",
    "- **Reason:** Segments II and III correctly swap `alpha` and `beta`, ensuring no data loss or incorrect overwrites.\n",
    "\n",
    "**Topic:** 1.4\n",
    "\n",
    "## Question:\n",
    "For which code segments will `NumOccurrences` NOT return the intended value? (Select two answers)\n",
    "\n",
    "### Your Answer (Incorrect):  \n",
    "*Only one answer selected instead of two.*\n",
    "\n",
    "### Correct Answer:  \n",
    "**B and D**  \n",
    "- **Reason:**  \n",
    "  - The inner `count = 0` inside the loop resets `count` for every word in the list, preventing proper accumulation.\n",
    "  - **B:** The procedure fails to correctly count occurrences of `\"maple\"`.  \n",
    "  - **D:** Since `\"spruce\"` does not exist in the list, the function should return `0`, but due to the incorrect loop logic, it may not.\n",
    "\n",
    "### Fix:\n",
    "Remove the incorrect inner reset of `count = 0` to allow proper accumulation.\n"
   ]
  }
 ],
 "metadata": {
  "language_info": {
   "name": "python"
  }
 },
 "nbformat": 4,
 "nbformat_minor": 2
}
