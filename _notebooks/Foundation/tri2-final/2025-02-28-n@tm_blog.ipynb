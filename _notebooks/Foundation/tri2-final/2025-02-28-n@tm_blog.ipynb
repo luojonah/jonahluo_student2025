{
 "cells": [
  {
   "cell_type": "raw",
   "metadata": {
    "vscode": {
     "languageId": "raw"
    }
   },
   "source": [
    "---\n",
    "layout: post\n",
    "title: Night at the Museum Blog \n",
    "description: N@TM overview, feedback, and pictures!!\n",
    "comments: true\n",
    "---"
   ]
  },
  {
   "cell_type": "markdown",
   "metadata": {},
   "source": [
    "## **User Reviews & Feedback**\n",
    "\n",
    "https://github.com/magic005/Club_Hub_Frontend/issues/71"
   ]
  },
  {
   "cell_type": "markdown",
   "metadata": {},
   "source": [
    "## **Project Future Plans & Changes**\n",
    "\n",
    "Based off the feedback our group received during Night at the Museum, I can conclude that the user's really like our overall theme and consistency with styling throughout our website, as well as how each feature integrates seamlessly with each other and how each feature actually serves a purpose in adding to the website. However, there are still things that we could change and improve, such as organization, which could be done using containers. We also received comments suggesting more user interaction, which could be done by adding more animations and flashy pages that catch the user's attention. We also received suggestions to link ASB instructions to make it more realistic if it were actually used in our school to manage clubs.\n",
    "\n",
    "- Received positive reviews for consistent styling and user-friendly UX.\n",
    "- Main suggestion: Improve organization using containers."
   ]
  },
  {
   "cell_type": "markdown",
   "metadata": {},
   "source": [
    "## **Next Steps for CompSci, Interests, Classes, College, Internships & Career**\n",
    "\n",
    "To be completely honest, I am not too interested in computer science in it of itself, particularily in the web design and development aspect. Instead, my interests lie heavily in STEM related activities and research. From previous and ongoing research experiences, I have observed that computer science is a really important tool in conducting scientific research, and so I hope to pursue to apply what I've learned so far in Computer Science Principles into scientific research and studies, maybe even pursuing this in college as well. I also know that this is definately a very important skill that could help with my application to internships related to STEM as well as even my career in the future.\n",
    "\n",
    "Apply computer science to scientific research, leveraging its impact on problem-solving."
   ]
  },
  {
   "cell_type": "markdown",
   "metadata": {},
   "source": [
    "## **Individual Strengths & Weaknesses**\n",
    "\n",
    "**Strengths**: I collaborate and lead well within my group and I am able to problem solve and troubleshoot through problems and errors that I or my group may encounter. I also worked well with classmates, asking them for help or helping them whenever I could.\n",
    "\n",
    "**Weaknesses**: My organization and planning throughout this trimester was not the best. I didn't have well organized kanban board items or burndownlists until later into the trimester when everything was getting too chaotic. I also didn't reach out as much as I think I should've, especially encountering errors with simple fixes that I would spend hours trying to fix on my own.\n",
    "\n",
    "Strengths: Collaboration, problem-solving, and supporting teammates.\n",
    "Weaknesses: Not asking for help enough when needed."
   ]
  },
  {
   "cell_type": "markdown",
   "metadata": {},
   "source": [
    "### **Our Live Demo & Presentation**:\n",
    "\n",
    "![post]({{site.baseurl}}/images/notebooks/natm/presentation1.png)\n",
    "\n",
    "![post]({{site.baseurl}}/images/notebooks/natm/presentation2.png)\n",
    "\n",
    "<hr>\n"
   ]
  },
  {
   "cell_type": "markdown",
   "metadata": {},
   "source": [
    "## **Interests in Other Groups & Reviews**:\n",
    "\n",
    "![post]({{site.baseurl}}/images/notebooks/natm/review1.png)\n",
    "\n",
    "![post]({{site.baseurl}}/images/notebooks/natm/review2.png)\n",
    "\n",
    "![post]({{site.baseurl}}/images/notebooks/natm/review3.png)\n",
    "\n",
    "![post]({{site.baseurl}}/images/notebooks/natm/review4.png)"
   ]
  }
 ],
 "metadata": {
  "language_info": {
   "name": "python"
  }
 },
 "nbformat": 4,
 "nbformat_minor": 2
}
