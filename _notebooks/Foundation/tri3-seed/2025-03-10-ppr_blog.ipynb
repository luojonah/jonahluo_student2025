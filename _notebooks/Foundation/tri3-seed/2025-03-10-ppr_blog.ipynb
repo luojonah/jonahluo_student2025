{
 "cells": [
  {
   "cell_type": "raw",
   "metadata": {
    "vscode": {
     "languageId": "raw"
    }
   },
   "source": [
    "---\n",
    "layout: post\n",
    "title: Personal Project Review \n",
    "description: Explaining how my project meets CPT requirements.\n",
    "comments: true\n",
    "---"
   ]
  },
  {
   "cell_type": "markdown",
   "metadata": {},
   "source": [
    "## 1. List Type Data: Dictionary"
   ]
  },
  {
   "cell_type": "code",
   "execution_count": null,
   "metadata": {
    "vscode": {
     "languageId": "javascript"
    }
   },
   "outputs": [],
   "source": [
    "const payload = {\n",
    "    name: clubName,\n",
    "    description: clubDescription,\n",
    "    topics: selectedTopics,\n",
    "    user_id: userId,  \n",
    "};"
   ]
  },
  {
   "cell_type": "markdown",
   "metadata": {},
   "source": [
    "**Why is this important?**\n",
    "- Meets the \"User Input Handling\" requirement by accepting JSON data from users.\n",
    "- Stores data in payload variable defined and send that payload to backend to store in schema.\n",
    "<hr>"
   ]
  },
  {
   "cell_type": "markdown",
   "metadata": {},
   "source": [
    "## 2. List Being Processed"
   ]
  },
  {
   "cell_type": "code",
   "execution_count": null,
   "metadata": {},
   "outputs": [],
   "source": [
    "@token_required()\n",
    "def put(self):\n",
    "    \"\"\"\n",
    "    Update a club.\n",
    "    \"\"\"\n",
    "    current_user = g.current_user\n",
    "    data = request.get_json()\n",
    "\n",
    "    club = Club.query.get(data['id'])\n",
    "    if club is None:\n",
    "        return {'message': 'Club not found'}, 404\n",
    "\n",
    "    club.name = data['name']\n",
    "    club.description = data['description']\n",
    "    club.topics = data['topics']\n",
    "\n",
    "    club.update(data)  \n",
    "\n",
    "    return jsonify(club.to_dict())"
   ]
  },
  {
   "cell_type": "markdown",
   "metadata": {},
   "source": [
    "**Why is this important?**\n",
    "- Backend PUT function in the club API.\n",
    "- Gets current user, queries through list of clubs and filters by id, takes new club information and updates information in that specific object in the list.\n",
    "- Updates club information when called on the frontend.\n",
    "\n",
    "<hr>\n"
   ]
  },
  {
   "cell_type": "markdown",
   "metadata": {},
   "source": [
    "## 3. Function\n"
   ]
  },
  {
   "cell_type": "code",
   "execution_count": null,
   "metadata": {
    "vscode": {
     "languageId": "javascript"
    }
   },
   "outputs": [],
   "source": [
    "async function deleteClub(clubId, clubBox) {\n",
    "    try {\n",
    "        const response = await fetch(`${pythonURI}/api/club`, {\n",
    "            method: \"DELETE\",\n",
    "            headers: {\n",
    "                \"Content-Type\": \"application/json\",\n",
    "            },\n",
    "            credentials: \"include\",\n",
    "            body: JSON.stringify({ id: clubId }),\n",
    "        });\n",
    "\n",
    "        if (response.ok) {\n",
    "            clubsData = clubsData.filter(club => club.id !== clubId);\n",
    "\n",
    "            if (currentPage * clubsPerPage >= clubsData.length && currentPage > 0) {\n",
    "                currentPage--;\n",
    "            }\n",
    "\n",
    "            displayPaginatedClubs();\n",
    "\n",
    "        } else {\n",
    "            const error = await response.json();\n",
    "            alert(`Error: ${error.message}`);\n",
    "        }\n",
    "    } catch (error) {\n",
    "        alert(\"An error occurred while deleting the club. Please try again.\");\n",
    "        console.error(error);\n",
    "    }\n",
    "}\n"
   ]
  },
  {
   "cell_type": "markdown",
   "metadata": {},
   "source": [
    "**Selection**: provides a path for a succesfull delete request with an if statement and an alternative path for if the delete request failes with the else statement.\n",
    "\n",
    "**Sequencing**: steps are ordered and structure using await, if and else statements. First, the function awaits a delete request to the backend. Based upon the response of the request, the following code either deletes that object from a local array (if statement) or alerts an error message if the delete request fails (else statement).\n",
    "\n",
    "**Iteration**: the **.filter** function iterates through each object in the clubsData list/array in order to find a club with a matching clubid. Once it matches the clubid, it returns true and that club is deleted form the local clubsData array.\n",
    "\n",
    "**Parameters**: Function includes the parameters **clubId** that is used to match with a local clubid to delete that specific club from the local array, removing that club's club box when the page is reloaded with the **displayPaginatedClubs();** function.\n",
    "\n",
    "<hr>"
   ]
  },
  {
   "cell_type": "markdown",
   "metadata": {},
   "source": [
    "## 4. Calling the Function: "
   ]
  },
  {
   "cell_type": "code",
   "execution_count": null,
   "metadata": {
    "vscode": {
     "languageId": "javascript"
    }
   },
   "outputs": [],
   "source": [
    "const deleteBtn = document.createElement(\"button\");\n",
    "deleteBtn.classList.add(\"small-btn\");\n",
    "deleteBtn.textContent = \"Delete Club\";\n",
    "deleteBtn.addEventListener(\"click\", async function () {\n",
    "    await deleteClub(createdClub.id, clubBox);\n",
    "});"
   ]
  },
  {
   "cell_type": "markdown",
   "metadata": {},
   "source": [
    "The previous deleteClub function id called using an eventListener for when the user clicks the delete club button on a club card.\n",
    "<hr>"
   ]
  }
 ],
 "metadata": {
  "language_info": {
   "name": "python"
  }
 },
 "nbformat": 4,
 "nbformat_minor": 2
}
