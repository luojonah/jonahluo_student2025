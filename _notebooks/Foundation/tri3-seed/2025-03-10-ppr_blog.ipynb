{
 "cells": [
  {
   "cell_type": "raw",
   "metadata": {
    "vscode": {
     "languageId": "raw"
    }
   },
   "source": [
    "---\n",
    "layout: post\n",
    "title: Personal Project Review \n",
    "description: Explaining how my project meets CPT requirements.\n",
    "comments: true\n",
    "---"
   ]
  },
  {
   "cell_type": "markdown",
   "metadata": {},
   "source": [
    "## 1. User Input Handling: Club Creation (POST Request)\n",
    "#### Snippet: post() Method in ClubAPI._CRUD"
   ]
  },
  {
   "cell_type": "code",
   "execution_count": null,
   "metadata": {
    "vscode": {
     "languageId": "javascript"
    }
   },
   "outputs": [],
   "source": [
    "const payload = {\n",
    "    name: clubName,\n",
    "    description: clubDescription,\n",
    "    topics: selectedTopics,\n",
    "    user_id: userId,  // Include user_id in the request\n",
    "};"
   ]
  },
  {
   "cell_type": "markdown",
   "metadata": {},
   "source": [
    "**Why is this important?**\n",
    "- Meets the \"User Input Handling\" requirement by accepting JSON data from users.\n",
    "- Stores data in payload variable defined and send to backend to store in schema.\n",
    "- Provides visual output by returning a JSON response to the frontend.\n",
    "<hr>"
   ]
  },
  {
   "cell_type": "markdown",
   "metadata": {},
   "source": [
    "## 2. List Usage & Algorithm Implementation: Fetching\n",
    "**PUT function & logic**"
   ]
  },
  {
   "cell_type": "code",
   "execution_count": null,
   "metadata": {},
   "outputs": [],
   "source": [
    "@token_required()\n",
    "def put(self):\n",
    "    \"\"\"\n",
    "    Update a club.\n",
    "    \"\"\"\n",
    "    current_user = g.current_user\n",
    "    data = request.get_json()\n",
    "\n",
    "    # Find the club by ID\n",
    "    club = Club.query.get(data['id'])\n",
    "    if club is None:\n",
    "        return {'message': 'Club not found'}, 404\n",
    "\n",
    "    # Update the club with the provided data\n",
    "    club.name = data['name']\n",
    "    club.description = data['description']\n",
    "    club.topics = data['topics']\n",
    "\n",
    "    # Pass the data to the update method\n",
    "    club.update(data)  # Pass the data dictionary here\n",
    "\n",
    "    return jsonify(club.to_dict())"
   ]
  },
  {
   "cell_type": "markdown",
   "metadata": {},
   "source": [
    "**Why is this important?**\n",
    "- Backend PUT function in the club API.\n",
    "- Updates club information when called on the frontend.\n",
    "\n",
    "<hr>\n"
   ]
  },
  {
   "cell_type": "markdown",
   "metadata": {},
   "source": [
    "## 3. Student-Developed Procedure: deleteClub()\n",
    "**Snippet: Function for Deleting a Club**"
   ]
  },
  {
   "cell_type": "code",
   "execution_count": null,
   "metadata": {
    "vscode": {
     "languageId": "javascript"
    }
   },
   "outputs": [],
   "source": [
    "async function deleteClub(clubId, clubBox) {\n",
    "    try {\n",
    "        const response = await fetch(`${pythonURI}/api/club`, {\n",
    "            method: \"DELETE\",\n",
    "            headers: {\n",
    "                \"Content-Type\": \"application/json\",\n",
    "            },\n",
    "            credentials: \"include\",\n",
    "            body: JSON.stringify({ id: clubId }),\n",
    "        });\n",
    "\n",
    "        if (response.ok) {\n",
    "            clubsData = clubsData.filter(club => club.id !== clubId);\n",
    "\n",
    "            if (currentPage * clubsPerPage >= clubsData.length && currentPage > 0) {\n",
    "                currentPage--; // Move back a page if the last club on the page was deleted\n",
    "            }\n",
    "\n",
    "            displayPaginatedClubs();\n",
    "        } else {\n",
    "            const error = await response.json();\n",
    "            alert(`Error: ${error.message}`);\n",
    "        }\n",
    "    } catch (error) {\n",
    "        alert(\"An error occurred while deleting the club. Please try again.\");\n",
    "        console.error(error);\n",
    "    }\n",
    "}\n"
   ]
  },
  {
   "cell_type": "markdown",
   "metadata": {},
   "source": [
    "**Why is this important?**\n",
    "- Named function that handles deleting a club.\n",
    "- Uses a parameter (clubId) to specify which club to remove.\n",
    "- Implements sequencing, selection, and iteration:\n",
    "    - Step-by-step processing (sequencing).\n",
    "    - Checks success/failure (selection using if statements).\n",
    "    - Iterates through each object in the list \"clubs\" using .filter to find target club (iteration using .filter()).\n",
    "- Provides visual output by updating the UI dynamically.\n",
    "\n",
    "<hr>"
   ]
  },
  {
   "cell_type": "markdown",
   "metadata": {},
   "source": [
    "## 4. Call to Algorithm: \n",
    "**Snippet: Calling PUT Method on Frontend**"
   ]
  },
  {
   "cell_type": "code",
   "execution_count": null,
   "metadata": {},
   "outputs": [],
   "source": [
    "def update(self, club_data):\n",
    "    \"\"\"\n",
    "    Updates the club with new data.\n",
    "    \"\"\"\n",
    "    try:\n",
    "        for key, value in club_data.items():\n",
    "            setattr(self, key, value)  # Dynamically update attributes\n",
    "\n",
    "        db.session.commit()\n",
    "    except IntegrityError as e:\n",
    "        db.session.rollback()\n",
    "        logging.warning(f\"IntegrityError: Could not update club '{self.name}' due to {str(e)}.\")\n",
    "        return None\n",
    "    return self\n"
   ]
  },
  {
   "cell_type": "markdown",
   "metadata": {},
   "source": [
    "**Why is this important?**\n",
    "- Sending request from frontend to backend club API using PUT method\n",
    "- Newly inputted data replaces old data in the schema, updating the club information\n",
    "- Updates automatically update on the website as well\n",
    "<hr>"
   ]
  },
  {
   "cell_type": "markdown",
   "metadata": {},
   "source": [
    "## 5. Output/Display\n",
    "**Displaying Club Information (Frontend)**"
   ]
  },
  {
   "cell_type": "code",
   "execution_count": null,
   "metadata": {
    "vscode": {
     "languageId": "javascript"
    }
   },
   "outputs": [],
   "source": [
    "function displayNewClub(createdClub) {\n",
    "    const clubBox = document.createElement(\"div\");\n",
    "    clubBox.classList.add(\"club-box\");\n",
    "    clubBox.innerHTML = `\n",
    "        <h3>${createdClub.name}</h3>\n",
    "        <p><strong>Description:</strong> ${createdClub.description}</p>\n",
    "        <p><strong>Topics:</strong> ${createdClub.topics.join(\", \")}</p>\n",
    "        <p><strong>Created by:</strong> ${createdClub.user_id}</p>\n",
    "    `;"
   ]
  },
  {
   "cell_type": "markdown",
   "metadata": {},
   "source": [
    "**Why is this important?**\n",
    "- Uses information previously submitted by user (stored in variables) and displays them in club card.\n",
    "- This essentially create a new club card for a club that is newly created and adds it to the list of club cards."
   ]
  }
 ],
 "metadata": {
  "language_info": {
   "name": "python"
  }
 },
 "nbformat": 4,
 "nbformat_minor": 2
}
