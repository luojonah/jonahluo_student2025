{
 "cells": [
  {
   "cell_type": "raw",
   "id": "9df8647f",
   "metadata": {
    "vscode": {
     "languageId": "raw"
    }
   },
   "source": [
    "---\n",
    "layout: post\n",
    "title: Individual Blog Check \n",
    "description: Project Overview, Unique Qualities, Homework Successes, and Project Showcases\n",
    "comments: true\n",
    "---"
   ]
  },
  {
   "cell_type": "markdown",
   "id": "749a07ee",
   "metadata": {},
   "source": [
    "## Overview of Projects\n",
    "\n",
    "## Project Overview: ClubHub  \n",
    "**Role:** Club Creator Feature Developer  \n",
    "**Tech Stack:** Python, Flask, SQL, Javascript, HTML, CSS, REST APIs, NGINX, AWS Deployment\n",
    "\n",
    "**ClubHub** is a full-stack web application designed to centralize all club-related activity at my school. Students can browse clubs, join or leave them, view personalized calendars, receive announcements, and track events—all in one platform.\n",
    "\n",
    "For this project, I was responsible for building the **Club Creator** feature. This allowed users to create new clubs through a clean, user-friendly interface, while ensuring only admins had the authority to delete clubs. I also worked on integrating this feature into other parts of the app, like member management, announcements, and calendar sync, making sure the experience was seamless for both club leaders and members.\n",
    "\n",
    "---\n",
    "\n",
    "### What I Learned\n",
    "\n",
    "- **Full-Stack Development:**  \n",
    "  I gained hands-on experience building both the frontend and backend of a real-world application, and learned how different parts of a system interact.\n",
    "\n",
    "- **CRUD API Design:**  \n",
    "  I wrote custom APIs in Python (Flask) with full CRUD functionality, giving users the ability to create, read, update, and delete club data securely and efficiently.\n",
    "\n",
    "- **Frontend Integration:**  \n",
    "  I learned how to build and integrate user-friendly React components that interact smoothly with backend services and provide real-time updates.\n",
    "\n",
    "- **SQL & Backend Architecture:**  \n",
    "  I designed relational tables in a SQL database and connected them to backend logic, focusing on clean schema design and relational data handling.\n",
    "\n",
    "- **Deployment with NGINX & AWS:**  \n",
    "  I learned how to deploy full-stack applications using AWS services and configure NGINX as a reverse proxy to serve the app reliably in production environments.\n",
    "\n",
    "- **Collaboration & Workflow:**  \n",
    "  We used **Kanban boards** to organize tasks and track progress, which helped me build consistent work habits. I also experienced the challenges of team coordination—especially merging code and managing deadlines—which taught me the importance of clear communication and version control.\n",
    "\n",
    "<img src=\"{{ site.baseurl }}/images/clubhub1.png\">\n",
    "<img src=\"{{ site.baseurl }}/images/clubhub2.png\">\n",
    "<img src=\"{{ site.baseurl }}/images/clubhub3.png\">\n",
    "\n",
    "<hr>\n",
    "\n",
    "## Project Overview: CSP Grade & Exam Predictors  \n",
    "**Role:** Frontend Integration & ML Model Support  \n",
    "**Collaborator:** Tarun Rayavarapu\n",
    "**Tech Stack:** Python, Pandas, Machine Learning, Flask, JavaScript, HTML/CSS, REST APIs  \n",
    "\n",
    "This project was part of the Open Coding Society and focused on predicting students’ course grades and AP exam scores based on self-assessed attributes. Students would rate themselves (1–5) on various characteristics such as study habits, time management, and confidence in the subject. Our machine learning model then used data from previous students to predict their final grade and potential AP score.\n",
    "\n",
    "My primary contribution was building the **Grade Predictor** feature. I worked closely with my partner, Tarun, to help develop the machine learning model, and I was responsible for integrating the backend APIs with the frontend quiz interface. I also built the **DOM logic** to display personalized prediction results on each user's dashboard, creating a seamless and informative experience for the student.\n",
    "\n",
    "---\n",
    "\n",
    "### What I Learned\n",
    "\n",
    "- **Machine Learning Collaboration:**  \n",
    "  I deepened my understanding of pandas by working on a real-world prediction model and learned how to collaborate on model development and tuning.\n",
    "\n",
    "- **Frontend-Backend Integration:**  \n",
    "  I gained experience connecting frontend components with Flask APIs, handling form inputs, and dynamically displaying results based on user-specific data.\n",
    "\n",
    "- **Personalized UI Development:**  \n",
    "  I implemented DOM logic to show individualized prediction results on the user’s profile page, ensuring the UI was both responsive and meaningful.\n",
    "\n",
    "- **Agile Problem-Solving:**  \n",
    "  We faced a major challenge early on: our original project was scrapped halfway through the trimester. Our teacher assigned this new project late, so we had to quickly reorient ourselves, scope out the idea, and start building under time pressure.\n",
    "\n",
    "- **Team Communication & Growth:**  \n",
    "  With limited time, Tarun and I had to coordinate effectively—often jumping on Discord calls outside of class to code together, divide tasks, and troubleshoot bugs. It was a great test of adaptability and perseverance, and it pushed me to develop stronger communication and time management skills under pressure.\n",
    "\n",
    "  <img src=\"{{ site.baseurl }}/images/gradepredictor1.png\">\n",
    "  <img src=\"{{ site.baseurl }}/images/gradepredictor2.png\">\n",
    "\n",
    "\n"
   ]
  }
 ],
 "metadata": {
  "language_info": {
   "name": "python"
  }
 },
 "nbformat": 4,
 "nbformat_minor": 5
}
