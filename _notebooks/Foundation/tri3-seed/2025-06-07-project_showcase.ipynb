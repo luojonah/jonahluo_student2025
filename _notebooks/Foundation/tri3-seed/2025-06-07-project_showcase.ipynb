{
 "cells": [
  {
   "cell_type": "raw",
   "id": "721487ba",
   "metadata": {
    "vscode": {
     "languageId": "raw"
    }
   },
   "source": [
    "---\n",
    "layout: post\n",
    "title: Showcased Projects \n",
    "description: N@TM, Pitch Videos, Pilot City Interviews\n",
    "comments: true\n",
    "---"
   ]
  },
  {
   "cell_type": "markdown",
   "id": "5f016530",
   "metadata": {},
   "source": [
    "## 1st N@TM\n",
    "\n",
    "At my first Night at The Museum, my group and I were able to demo our full stack project, titled Club Hub. Here, we were able to obtain valuable feedback from parents and students alike, which we used to improve our individual features and our project as a whole. We also saw projects from other groups spanning all different periods of AP CSP which was very encouraging.\n",
    "\n",
    "<img src=\"{{ site.baseurl }}/images/notebooks/natm/presentation1.png\">\n",
    "<img src=\"{{ site.baseurl }}/images/notebooks/natm/review3.png\">\n",
    "<img src=\"{{ site.baseurl }}/images/notebooks/natm/review4.png\">\n",
    "\n",
    "<hr>\n",
    "\n",
    "## 2nd N@TM\n",
    "\n",
    "At the latest Night at The Museum, my group and I were able to show off our course and exam predictor features for the AP Computer Science Principles class. It was really fun explaining the challenges we faced and ultimately overcame in order to arrive at our final product, and we also received a lot of valuable feedback about our feature.\n",
    "\n",
    "<img src=\"{{ site.baseurl }}/images/natm21.png\">\n",
    "<img src=\"{{ site.baseurl }}/images/natm22.png\">\n",
    "\n",
    "<hr>\n",
    "\n",
    "## Grade Predictor Pitch Video\n",
    "\n",
    "As an assignment, my group had to create a ~3 minute long video to pitch our feature. I thought the creative process behind editing and putting together the video as well as the teamwork aspect of it was really enjoyable and the final product turned out very nice.\n",
    "\n",
    "[![Watch on YouTube](https://i.ytimg.com/an_webp/LsPoaVVEigg/mqdefault_6s.webp?du=3000&sqp=CMDkqcIG&rs=AOn4CLBlSAk39epH7c7l6dsQltqhr8HGTg)](https://www.youtube.com/watch?v=LsPoaVVEigg)\n",
    "\n",
    " "
   ]
  }
 ],
 "metadata": {
  "language_info": {
   "name": "python"
  }
 },
 "nbformat": 4,
 "nbformat_minor": 5
}
