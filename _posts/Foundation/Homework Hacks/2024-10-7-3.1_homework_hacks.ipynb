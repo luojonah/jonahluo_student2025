{
 "cells": [
  {
   "cell_type": "raw",
   "metadata": {
    "vscode": {
     "languageId": "raw"
    }
   },
   "source": [
    "---\n",
    "layout: post\n",
    "title: 3.1 Homework \n",
    "description: Homework  \n",
    "courses: { csp: {week 1} } \n",
    "comments: true\n",
    "sticky_rank: 1\n",
    "---\n"
   ]
  },
  {
   "cell_type": "markdown",
   "metadata": {},
   "source": [
    "# Homework Hacks for 3.1"
   ]
  },
  {
   "cell_type": "markdown",
   "metadata": {},
   "source": [
    "# 3.1.2 Hack 1: Types of Variables"
   ]
  },
  {
   "cell_type": "code",
   "execution_count": null,
   "metadata": {},
   "outputs": [],
   "source": [
    "# Initial assignment\n",
    "variable = 10\n",
    "print(f\"Value: {variable}, Type: {type(variable)}\")\n",
    "\n",
    "# Reassign as a float\n",
    "variable = 10.5\n",
    "print(f\"Value: {variable}, Type: {type(variable)}\")\n",
    "\n",
    "# Reassign as a string\n",
    "variable = \"Hello\"\n",
    "print(f\"Value: '{variable}', Type: {type(variable)}\")\n",
    "\n",
    "# Reassign as a list\n",
    "variable = [1, 2, 3]\n",
    "print(f\"Value: {variable}, Type: {type(variable)}\")\n",
    "\n",
    "# Reassign as a dictionary\n",
    "variable = {\"key\": \"value\"}\n",
    "print(f\"Value: {variable}, Type: {type(variable)}\")\n",
    "\n",
    "# Reassign as a tuple\n",
    "variable = (10, 20)\n",
    "print(f\"Value: {variable}, Type: {type(variable)}\")\n",
    "\n",
    "# Reassign as a boolean\n",
    "variable = True\n",
    "print(f\"Value: {variable}, Type: {type(variable)}\")\n",
    "\n",
    "# Reassign as None\n",
    "variable = None\n",
    "print(f\"Value: {variable}, Type: {type(variable)}\")\n"
   ]
  },
  {
   "cell_type": "markdown",
   "metadata": {},
   "source": [
    "# 3.1.4 Hack 1: Naming Variables for User Profile"
   ]
  },
  {
   "cell_type": "code",
   "execution_count": null,
   "metadata": {
    "vscode": {
     "languageId": "javascript"
    }
   },
   "outputs": [],
   "source": [
    "// User profile variables\n",
    "let fullName = \"John Doe\";\n",
    "let age = 30;\n",
    "let emailAddress = \"johndoe@example.com\";\n",
    "let accountBalance = 1500;\n",
    "\n",
    "// Display the information\n",
    "console.log(`${fullName}, aged ${age}, can be contacted at ${emailAddress} and has a balance of $${accountBalance} in his account.`);\n"
   ]
  }
 ],
 "metadata": {
  "kernelspec": {
   "display_name": "Python 3",
   "language": "python",
   "name": "python3"
  },
  "language_info": {
   "codemirror_mode": {
    "name": "ipython",
    "version": 3
   },
   "file_extension": ".py",
   "mimetype": "text/x-python",
   "name": "python",
   "nbconvert_exporter": "python",
   "pygments_lexer": "ipython3",
   "version": "3.10.12"
  }
 },
 "nbformat": 4,
 "nbformat_minor": 2
}
